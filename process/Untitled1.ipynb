{
 "cells": [
  {
   "cell_type": "code",
   "execution_count": 1,
   "id": "94c8a385-efee-4759-a9ea-d509a92ee680",
   "metadata": {},
   "outputs": [],
   "source": [
    "import numpy as np"
   ]
  },
  {
   "cell_type": "code",
   "execution_count": 2,
   "id": "9a0305e7-12d0-4866-95df-c67ff66b4a1f",
   "metadata": {},
   "outputs": [],
   "source": [
    "path='/youtu_pedestrian_detection/junweil/action_datasets/soccernet/england_epl/2014-2015/2015-02-21 - 18-00 Chelsea 1 - 1 Burnley/1_ResNET_TF2_PCA512.npy'\n",
    "data=np.load(path)"
   ]
  },
  {
   "cell_type": "code",
   "execution_count": 3,
   "id": "7ec8e009-4a1e-409e-8084-7a7998282a73",
   "metadata": {},
   "outputs": [
    {
     "data": {
      "text/plain": [
       "(5400, 512)"
      ]
     },
     "execution_count": 3,
     "metadata": {},
     "output_type": "execute_result"
    }
   ],
   "source": [
    "data.shape"
   ]
  },
  {
   "cell_type": "code",
   "execution_count": 4,
   "id": "49f5fb9a-8b0a-4131-b2f5-4514282a8d27",
   "metadata": {},
   "outputs": [],
   "source": [
    "path='/youtu_pedestrian_detection/junweil/action_datasets/soccernet/england_epl/2014-2015/2015-02-21 - 18-00 Chelsea 1 - 1 Burnley/1_baidu_soccer_embeddings.npy'\n",
    "data2=np.load(path)"
   ]
  },
  {
   "cell_type": "code",
   "execution_count": 5,
   "id": "3f060bf2-7507-4983-95d6-966f559ac40a",
   "metadata": {},
   "outputs": [
    {
     "data": {
      "text/plain": [
       "(2700, 8576)"
      ]
     },
     "execution_count": 5,
     "metadata": {},
     "output_type": "execute_result"
    }
   ],
   "source": [
    "data2.shape"
   ]
  },
  {
   "cell_type": "code",
   "execution_count": 6,
   "id": "08f7cce5-91eb-466c-a0ff-2f0e96e1893f",
   "metadata": {},
   "outputs": [],
   "source": [
    "path='/youtu_pedestrian_detection/junweil/action_datasets/soccernet/england_epl/2014-2015/2015-02-21 - 18-00 Chelsea 1 - 1 Burnley/1_ResNET_TF2.npy'\n",
    "data0=np.load(path)"
   ]
  },
  {
   "cell_type": "code",
   "execution_count": 7,
   "id": "3da58a7a-8430-4529-ab9d-204a9bb8f3eb",
   "metadata": {},
   "outputs": [
    {
     "data": {
      "text/plain": [
       "(5400, 2048)"
      ]
     },
     "execution_count": 7,
     "metadata": {},
     "output_type": "execute_result"
    }
   ],
   "source": [
    "data0.shape"
   ]
  },
  {
   "cell_type": "code",
   "execution_count": null,
   "id": "a81aa229-f108-48ff-9f07-d36f5f082976",
   "metadata": {},
   "outputs": [],
   "source": []
  }
 ],
 "metadata": {
  "kernelspec": {
   "display_name": "soccer",
   "language": "python",
   "name": "soccer"
  },
  "language_info": {
   "codemirror_mode": {
    "name": "ipython",
    "version": 3
   },
   "file_extension": ".py",
   "mimetype": "text/x-python",
   "name": "python",
   "nbconvert_exporter": "python",
   "pygments_lexer": "ipython3",
   "version": "3.6.13"
  }
 },
 "nbformat": 4,
 "nbformat_minor": 5
}
