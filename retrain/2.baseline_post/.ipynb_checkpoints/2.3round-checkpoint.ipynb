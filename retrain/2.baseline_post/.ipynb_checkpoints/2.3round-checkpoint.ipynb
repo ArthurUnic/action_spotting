{
 "cells": [
  {
   "cell_type": "code",
   "execution_count": null,
   "id": "0f85bc59-8338-4466-80f4-f66a38d537f0",
   "metadata": {},
   "outputs": [],
   "source": []
  },
  {
   "cell_type": "code",
   "execution_count": 3,
   "id": "f323a69f-c4ab-4d0d-8f2f-0a738025d372",
   "metadata": {},
   "outputs": [],
   "source": [
    "import argparse\n",
    "from SoccerNet.utils import getListGames\n",
    "import os\n",
    "import json\n",
    "from tqdm import tqdm\n",
    "import numpy as np\n",
    "from SoccerNet.Evaluation.ActionSpotting import evaluate"
   ]
  },
  {
   "cell_type": "code",
   "execution_count": 4,
   "id": "387244a6-a172-4c84-b91e-a405a814093a",
   "metadata": {},
   "outputs": [],
   "source": [
    "parser = argparse.ArgumentParser()\n",
    "# parser.add_argument(\"--anno_file\",default='')\n",
    "parser.add_argument(\"--source_test_path\",default='/youtu_pedestrian_detection/zhuhe/soccernet/submit/size_224_with_bg')#输入test文件夹 \n",
    "parser.add_argument(\"--output_test_path\",default='/youtu_pedestrian_detection/zhuhe/soccernet/submit/output')  #筛选后test文件夹\n",
    "\n",
    "parser.add_argument(\"--source_challenge_path\",default='/youtu_pedestrian_detection/zhuhe/soccernet/submit/challenge_224_all')#输入challenge文件夹 \n",
    "parser.add_argument(\"--output_challenge_path\", default=\"/youtu_pedestrian_detection/zhuhe/soccernet/submit/challenge_224_all_44\")  #输出challenge文件夹\n",
    "parser.add_argument('--window_start', type=int,   default=26.5,     help='Size of the chunk (in seconds)' )\n",
    "parser.add_argument('--window_end', type=int,   default=26.5,     help='Size of the chunk (in seconds)' )\n",
    "parser.add_argument('--window_gap',  type=int,   default=5,     help='Size of the chunk (in seconds)' )\n",
    "\n",
    "args=parser.parse_args([])"
   ]
  },
  {
   "cell_type": "code",
   "execution_count": 5,
   "id": "a8243dec-882f-4870-818c-e428e3bb4e4e",
   "metadata": {},
   "outputs": [],
   "source": [
    "os.makedirs(args.output_challenge_path,exist_ok='True')"
   ]
  },
  {
   "cell_type": "code",
   "execution_count": 1,
   "id": "e88823ba-8abd-45a8-b2e1-d04bd33b28d2",
   "metadata": {},
   "outputs": [
    {
     "data": {
      "text/plain": [
       "(2, 600)"
      ]
     },
     "execution_count": 1,
     "metadata": {},
     "output_type": "execute_result"
    }
   ],
   "source": [
    "s,mini=divmod(2600,1000)"
   ]
  },
  {
   "cell_type": "code",
   "execution_count": 6,
   "id": "5a3216a8-0afe-4798-9c16-dc6736b2f9e5",
   "metadata": {},
   "outputs": [],
   "source": [
    "def process_window(window):\n",
    "    action_dic={}\n",
    "    res=[]\n",
    "    for pre in window:\n",
    "        s,mini=divmod(int(pre['position']),1000)\n",
    "        if mini<250:\n",
    "            mini=0\n",
    "        elif 250<=mini<750:\n",
    "            mini=500\n",
    "        else:\n",
    "            s+=1\n",
    "            mini=0\n",
    "        pre['position']=str(1000*s+mini)\n",
    "        \n",
    "        \n",
    "        if pre['label'] not in action_dic:\n",
    "            action_dic[pre['label']]=pre\n",
    "        else:\n",
    "            if float(pre['confidence']) > float(action_dic[pre['label']]['confidence']):\n",
    "                action_dic[pre['label']]=pre\n",
    "    for label in action_dic.keys():\n",
    "        res.append(action_dic[label])\n",
    "    return res"
   ]
  },
  {
   "cell_type": "code",
   "execution_count": null,
   "id": "692ec50d-45c1-4d0c-b232-a7c1be7c0efe",
   "metadata": {
    "tags": []
   },
   "outputs": [
    {
     "name": "stdout",
     "output_type": "stream",
     "text": [
      "26.5\n"
     ]
    }
   ],
   "source": [
    "total_results=[]\n",
    "window_size=args.window_start\n",
    "while window_size<=args.window_end:\n",
    "    print(window_size)\n",
    "\n",
    "    for cata in getListGames(split=\"test\"):\n",
    "\n",
    "        file=os.path.join(args.source_test_path,cata,'results_spotting.json')\n",
    "        with open(file,'r') as f:\n",
    "            data=json.load(f)\n",
    "        pres=data['predictions']\n",
    "        pres.sort(key=lambda x:(int(x['half']),int(x['position'])))\n",
    "\n",
    "        json_data = {} \n",
    "        total_pre={}\n",
    "        json_data[\"UrlLocal\"]=data['UrlLocal']\n",
    "        json_data[\"predictions\"]=[]\n",
    "\n",
    "        last_half=1\n",
    "        start,end=0,window_size\n",
    "        window=[]\n",
    "        for cur_pre,pre in enumerate(pres):\n",
    "\n",
    "\n",
    "            if start<= int(pre['position'])/1000.0 <end:\n",
    "                window.append(pre)\n",
    "            else:\n",
    "                json_data[\"predictions\"]+=process_window(window)\n",
    "                window=[pre]\n",
    "                # while end<int(pre['position']):\n",
    "                start+=window_size\n",
    "                end+=window_size\n",
    "\n",
    "                if last_half==1 and int(pre['half'])==2:\n",
    "                    last_half=2\n",
    "                    start,end=0,window_size\n",
    "\n",
    "        json_data[\"predictions\"]+=process_window(window)\n",
    "\n",
    "        os.makedirs(os.path.join(args.output_test_path,cata),exist_ok='True')\n",
    "        with open(os.path.join(args.output_test_path,cata,'results_spotting.json'),'w') as f:\n",
    "            json.dump(json_data,f,indent=2)\n",
    "    \n",
    "    PATH_DATASET='/youtu_pedestrian_detection/junweil/action_datasets/soccernet'\n",
    "    PATH_PREDICTIONS=args.output_test_path\n",
    "\n",
    "\n",
    "    from SoccerNet.Evaluation.ActionSpotting import evaluate\n",
    "    results = evaluate(SoccerNet_path=PATH_DATASET, Predictions_path=PATH_PREDICTIONS,\n",
    "                       split=\"test\", version=2, prediction_file=\"results_spotting.json\", metric=\"tight\")\n",
    "\n",
    "    a_map,a_mAP_visible,a_mAP_unshown=results[\"a_mAP\"],results[\"a_mAP_visible\"],results[\"a_mAP_unshown\"]\n",
    "    total_results.append([window_size,a_map,a_mAP_visible,a_mAP_unshown])\n",
    "    \n",
    "    \n",
    "    window_size+=args.window_gap"
   ]
  },
  {
   "cell_type": "code",
   "execution_count": 111,
   "id": "3e3ed22b-240f-4923-b3ba-b932ad2b3f10",
   "metadata": {},
   "outputs": [],
   "source": [
    "total_results.sort(key=lambda x:-x[1])\n",
    "window_size=total_results[0][0]"
   ]
  },
  {
   "cell_type": "code",
   "execution_count": 15,
   "id": "01e33c1b-333a-4670-bb07-191a5de8be61",
   "metadata": {
    "collapsed": true,
    "jupyter": {
     "outputs_hidden": true
    },
    "tags": []
   },
   "outputs": [
    {
     "data": {
      "text/plain": [
       "[[26.5, 0.37189007693837783, 0.45514818894529907, 0.13240919371158277],\n",
       " [20.0, 0.37127563593807256, 0.4529505287012233, 0.1341593514886228],\n",
       " [18.5, 0.3707842858052687, 0.4508171477058901, 0.1300769156471481],\n",
       " [23.5, 0.3707733714856386, 0.45095529236577975, 0.1330866759328308],\n",
       " [32.0, 0.3707458751366074, 0.45330844640255497, 0.12992372006245453],\n",
       " [28.0, 0.37055991983212294, 0.45520556017276553, 0.13279290685586276],\n",
       " [19.5, 0.37052548271984753, 0.45411947796442376, 0.13373388811567105],\n",
       " [26.0, 0.3703166726932299, 0.4507367300099808, 0.1319884506975172],\n",
       " [22.0, 0.3703065870040343, 0.452194989321651, 0.13407551572914383],\n",
       " [16.5, 0.3701497369261558, 0.45031036416668263, 0.1347566914382672],\n",
       " [21.5, 0.3699480724811102, 0.4513210000457767, 0.13346864276660816],\n",
       " [16.0, 0.36990531781663816, 0.45220619409240487, 0.13525032363744133],\n",
       " [21.0, 0.36985502299184747, 0.4498661249371045, 0.13385949608086362],\n",
       " [27.0, 0.3697803304555048, 0.4538917811157717, 0.129462872407485],\n",
       " [24.5, 0.3697214937169924, 0.4529195493467381, 0.13331677168658654],\n",
       " [29.5, 0.36949582149546967, 0.44843504764153985, 0.12645855971209366],\n",
       " [25.5, 0.3694716291675171, 0.45196376274002004, 0.13293989434481837],\n",
       " [23.0, 0.36946225650477643, 0.4497992795115804, 0.1331937216817557],\n",
       " [15.5, 0.3694296063269428, 0.4527545315748723, 0.13569973389256776],\n",
       " [25.0, 0.36940768501492516, 0.44881911807679287, 0.1327378879903522],\n",
       " [17.0, 0.36935159775945314, 0.4527242663939315, 0.13405054825576482],\n",
       " [20.5, 0.3691599161854745, 0.45301828331392074, 0.13318133500023538],\n",
       " [18.0, 0.36871866020311517, 0.4477498209777274, 0.134205407161878],\n",
       " [36.0, 0.3686496771075046, 0.4477624854623726, 0.1284148670877143],\n",
       " [15.0, 0.3684327347519157, 0.44891054105699507, 0.13535421397586722],\n",
       " [37.0, 0.3683957766547714, 0.45189626189261173, 0.12531895329622914],\n",
       " [17.5, 0.3682889758868606, 0.4485542033763327, 0.13485401570472055],\n",
       " [31.0, 0.368248333610108, 0.45231762229373906, 0.12918687877735785],\n",
       " [37.5, 0.3682324878865981, 0.45209265114630187, 0.12647786956105708],\n",
       " [36.5, 0.36811403313080854, 0.45391574326638284, 0.1276916817433153],\n",
       " [38.5, 0.36778539521465703, 0.44878068687701445, 0.1271552851157261],\n",
       " [14.0, 0.367343949157389, 0.4477318222014045, 0.13612233589550835],\n",
       " [14.5, 0.367343219102272, 0.45030587681680617, 0.13450234718835022],\n",
       " [24.0, 0.3673305991111652, 0.4496452281632685, 0.13320938095144977],\n",
       " [32.5, 0.3673066564266688, 0.4513851879269082, 0.13043366474239595],\n",
       " [12.0, 0.36722715410075785, 0.44503178270739807, 0.13467440270160627],\n",
       " [19.0, 0.3671501756991379, 0.44807275964370363, 0.13271488824961028],\n",
       " [40.0, 0.36710651527515126, 0.45277782679296574, 0.12651315321166098],\n",
       " [22.5, 0.36709100449682197, 0.4477637445569663, 0.1347017575232377],\n",
       " [34.0, 0.36707189044592126, 0.4499281265700552, 0.1269620289476338],\n",
       " [31.5, 0.3670184884749625, 0.45055875909293586, 0.12861743352656435],\n",
       " [13.0, 0.3667143885754661, 0.44691616051430494, 0.13506390160139786],\n",
       " [35.5, 0.3665699134083931, 0.4510989886816833, 0.1296691668084331],\n",
       " [30.5, 0.3661554737856647, 0.44760791880609613, 0.12657057514546716],\n",
       " [43.0, 0.36608811188888546, 0.44792217416939034, 0.1285236178562812],\n",
       " [28.5, 0.3659466646198287, 0.4500030577380152, 0.13172941176051073],\n",
       " [29.0, 0.36586674780581396, 0.44756755336666526, 0.1322176286624042],\n",
       " [33.0, 0.36583105563517704, 0.4463955101245192, 0.13060349054407228],\n",
       " [34.5, 0.3657766744265826, 0.45033313439917955, 0.1269191520137975],\n",
       " [12.5, 0.36569028160391903, 0.4455015992065171, 0.13541136657427433],\n",
       " [45.0, 0.3656386503620613, 0.4474686196730664, 0.12525922010165338],\n",
       " [35.0, 0.3655856143937845, 0.4491205985295518, 0.12819658537213666],\n",
       " [10.5, 0.3654408177564046, 0.4439983590615415, 0.1343308787915832],\n",
       " [30.0, 0.36514289186814497, 0.44585824228822035, 0.12900606975384019],\n",
       " [39.0, 0.3651038124679525, 0.4490630194731883, 0.12653907339626183],\n",
       " [39.5, 0.36498511393959876, 0.4462894702258866, 0.12666422307116004],\n",
       " [38.0, 0.36496322823964467, 0.4451844708054086, 0.1267285541774728],\n",
       " [11.5, 0.3649211698758057, 0.4445858521328261, 0.13534086573347384],\n",
       " [13.5, 0.3646328317151414, 0.4488877011999753, 0.132790846903725],\n",
       " [33.5, 0.36453404129546324, 0.444383773150644, 0.12958604207955843],\n",
       " [41.0, 0.364464445460913, 0.4497548025251471, 0.1268337682271974],\n",
       " [11.0, 0.3644118880115109, 0.44581390125204146, 0.13471837898729683],\n",
       " [10, 0.3635886168702596, 0.4452361951226681, 0.13416065650464098],\n",
       " [27.5, 0.3634363524594272, 0.4460692460328899, 0.13259600058796728],\n",
       " [41.5, 0.3630508021010681, 0.44692718774339113, 0.12387983582591436],\n",
       " [42.0, 0.362772678459219, 0.4435117679668004, 0.1291298186344525],\n",
       " [44.5, 0.36238087442322475, 0.4471844052115759, 0.12375095410384217],\n",
       " [40.5, 0.36172188377261544, 0.4464875327733887, 0.12761595741837362],\n",
       " [47.0, 0.3616551509894289, 0.4424638901569101, 0.12406876864609735],\n",
       " [44.0, 0.36158676491291886, 0.44388769981572695, 0.12409721299554527],\n",
       " [45.5, 0.3614832314533927, 0.4446376812699189, 0.12522372704699236],\n",
       " [46.5, 0.36108954354627015, 0.4445199889284487, 0.12313867589198027],\n",
       " [46.0, 0.36082991548464693, 0.44163864979505596, 0.12415058517309692],\n",
       " [50.0, 0.3607474620064718, 0.4450608142686538, 0.12472137308542644],\n",
       " [42.5, 0.3604232213443087, 0.4457525061024829, 0.1251666957547541],\n",
       " [49.0, 0.35972850695628966, 0.4436561428754237, 0.12115940358584389],\n",
       " [47.5, 0.35931989087291344, 0.4431523314229264, 0.12812537172805058],\n",
       " [43.5, 0.3592835687540979, 0.44455646733677406, 0.120725763396529],\n",
       " [49.5, 0.35914194571781677, 0.4400541643216772, 0.12228036884794712],\n",
       " [48.5, 0.35913379694214503, 0.4431122032854665, 0.12647939608758987],\n",
       " [48.0, 0.35860791527173375, 0.44117430694784776, 0.12133986349198284]]"
      ]
     },
     "execution_count": 15,
     "metadata": {},
     "output_type": "execute_result"
    }
   ],
   "source": [
    "total_results"
   ]
  },
  {
   "cell_type": "code",
   "execution_count": 112,
   "id": "deeefe1b-76fc-4c15-9039-1abf80ec1d0b",
   "metadata": {},
   "outputs": [
    {
     "data": {
      "text/plain": [
       "10.0"
      ]
     },
     "execution_count": 112,
     "metadata": {},
     "output_type": "execute_result"
    }
   ],
   "source": [
    "window_size"
   ]
  },
  {
   "cell_type": "code",
   "execution_count": 113,
   "id": "5afc6e77-daa4-46a7-85a0-61becf8b2390",
   "metadata": {
    "collapsed": true,
    "jupyter": {
     "outputs_hidden": true
    },
    "tags": []
   },
   "outputs": [
    {
     "data": {
      "text/plain": [
       "[[10.0, 0.3635886168702596, 0.4452361951226681, 0.13416065650464098],\n",
       " [9.0, 0.3628183949734276, 0.4408861857435958, 0.13129837213006507],\n",
       " [8.0, 0.3623251507985085, 0.4394945123104102, 0.13513755799699895],\n",
       " [9.5, 0.36051810512867954, 0.43839204361662265, 0.13315908195648835],\n",
       " [8.5, 0.3597629987587144, 0.440094394295939, 0.13528863884583778],\n",
       " [7.0, 0.3574157910817314, 0.4357392284301309, 0.13575448732562678],\n",
       " [6.5, 0.3571480587524357, 0.43471564446898003, 0.13501414585936694],\n",
       " [7.5, 0.35633529300113514, 0.43441008626314975, 0.13633516850227909],\n",
       " [5.5, 0.35045527138076066, 0.4247491026570801, 0.13260608574209778],\n",
       " [6.0, 0.3503767726499682, 0.42360994858021006, 0.1333123736889443],\n",
       " [5.0, 0.3486040402767273, 0.4253135064499454, 0.1337106279009972],\n",
       " [4.0, 0.34435912502347854, 0.41643962807336105, 0.1324311198498365],\n",
       " [4.5, 0.3424705960086811, 0.41638542665409883, 0.1315793889648043],\n",
       " [3.5, 0.3370436435125208, 0.40952792182902686, 0.13061871362556607],\n",
       " [3.0, 0.32788232376722665, 0.39890128914740625, 0.12454136892284653],\n",
       " [2.5, 0.31738358149903073, 0.3887606985261802, 0.1282810929544733],\n",
       " [2.0, 0.30903594019134095, 0.3784507691330045, 0.12499910886668987],\n",
       " [1.5, 0.2887326350107374, 0.35412856259022796, 0.11548453472980105],\n",
       " [1.0, 0.26069428290941893, 0.3211136201936504, 0.10628291237676733],\n",
       " [0, 0.21150472288747466, 0.2626138776754105, 0.08868845599455046],\n",
       " [0.5, 0.21150472288747466, 0.2626138776754105, 0.08868845599455046]]"
      ]
     },
     "execution_count": 113,
     "metadata": {},
     "output_type": "execute_result"
    }
   ],
   "source": [
    "total_results"
   ]
  },
  {
   "cell_type": "code",
   "execution_count": 13,
   "id": "569c8f1f-0c01-4c21-80d3-f56c267346c7",
   "metadata": {},
   "outputs": [
    {
     "data": {
      "text/plain": [
       "26.5"
      ]
     },
     "execution_count": 13,
     "metadata": {},
     "output_type": "execute_result"
    }
   ],
   "source": [
    "window_size"
   ]
  },
  {
   "cell_type": "code",
   "execution_count": 12,
   "id": "094a7805-74d2-43af-8958-dd7917b6cbac",
   "metadata": {
    "tags": []
   },
   "outputs": [
    {
     "name": "stderr",
     "output_type": "stream",
     "text": [
      "100%|██████████| 50/50 [00:08<00:00,  5.74it/s]\n"
     ]
    }
   ],
   "source": [
    "for cata in tqdm(getListGames(split=\"challenge\")):\n",
    "    \n",
    "    file=os.path.join(args.source_challenge_path,cata,'results_spotting.json')\n",
    "    with open(file,'r') as f:\n",
    "        data=json.load(f)\n",
    "    pres=data['predictions']\n",
    "    pres.sort(key=lambda x:(int(x['half']),int(x['position'])))\n",
    "    \n",
    "    json_data = {} \n",
    "    total_pre={}\n",
    "    json_data[\"UrlLocal\"]=data['UrlLocal']\n",
    "    json_data[\"predictions\"]=[]\n",
    "    \n",
    "    last_half=1\n",
    "    start,end=0,window_size\n",
    "    window=[]\n",
    "    for cur_pre,pre in enumerate(pres):\n",
    "\n",
    "        \n",
    "        if start<= int(pre['position'])/1000.0 <end:\n",
    "            window.append(pre)\n",
    "        else:\n",
    "            json_data[\"predictions\"]+=process_window(window)\n",
    "            window=[pre]\n",
    "            start+=window_size\n",
    "            end+=window_size\n",
    "            \n",
    "            if last_half==1 and int(pre['half'])==2:\n",
    "                last_half=2\n",
    "                start,end=0,window_size\n",
    "         \n",
    "    json_data[\"predictions\"]+=process_window(window)\n",
    "    \n",
    "    os.makedirs(os.path.join(args.output_challenge_path,cata),exist_ok='True')\n",
    "    with open(os.path.join(args.output_challenge_path,cata,'results_spotting.json'),'w') as f:\n",
    "        json.dump(json_data,f,indent=2)\n",
    "    \n",
    "    \n"
   ]
  }
 ],
 "metadata": {
  "kernelspec": {
   "display_name": "soccer",
   "language": "python",
   "name": "soccer"
  },
  "language_info": {
   "codemirror_mode": {
    "name": "ipython",
    "version": 3
   },
   "file_extension": ".py",
   "mimetype": "text/x-python",
   "name": "python",
   "nbconvert_exporter": "python",
   "pygments_lexer": "ipython3",
   "version": "3.6.13"
  }
 },
 "nbformat": 4,
 "nbformat_minor": 5
}
