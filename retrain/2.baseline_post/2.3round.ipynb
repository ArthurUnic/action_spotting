{
 "cells": [
  {
   "cell_type": "code",
   "execution_count": null,
   "id": "0f85bc59-8338-4466-80f4-f66a38d537f0",
   "metadata": {},
   "outputs": [],
   "source": []
  },
  {
   "cell_type": "code",
   "execution_count": 16,
   "id": "f323a69f-c4ab-4d0d-8f2f-0a738025d372",
   "metadata": {},
   "outputs": [],
   "source": [
    "import argparse\n",
    "from SoccerNet.utils import getListGames\n",
    "import os\n",
    "import json\n",
    "from tqdm import tqdm\n",
    "import numpy as np\n",
    "from SoccerNet.Evaluation.ActionSpotting import evaluate"
   ]
  },
  {
   "cell_type": "code",
   "execution_count": 17,
   "id": "387244a6-a172-4c84-b91e-a405a814093a",
   "metadata": {},
   "outputs": [],
   "source": [
    "parser = argparse.ArgumentParser()\n",
    "# parser.add_argument(\"--anno_file\",default='')\n",
    "parser.add_argument(\"--source_test_path\",default='/youtu_pedestrian_detection/chengzhilin/program/soccernet/models/MVIT_FULL/outputs_test')#输入test文件夹 \n",
    "parser.add_argument(\"--output_test_path\",default='/youtu_pedestrian_detection/zhuhe/soccernet/submit/output_full')  #筛选后test文件夹\n",
    "\n",
    "parser.add_argument(\"--source_challenge_path\",default='/youtu_pedestrian_detection/chengzhilin/program/soccernet/models/MVIT_FULL/outputs_challenge')#输入challenge文件夹 \n",
    "parser.add_argument(\"--output_challenge_path\", default=\"/youtu_pedestrian_detection/zhuhe/soccernet/submit/challenge_round_0.5\")  #输出challenge文件夹\n",
    "parser.add_argument('--window_start', type=int,   default=1,     help='Size of the chunk (in seconds)' )\n",
    "parser.add_argument('--window_end', type=int,   default=1,     help='Size of the chunk (in seconds)' )\n",
    "parser.add_argument('--window_gap',  type=int,   default=5,     help='Size of the chunk (in seconds)' )\n",
    "\n",
    "args=parser.parse_args([])"
   ]
  },
  {
   "cell_type": "code",
   "execution_count": 18,
   "id": "a8243dec-882f-4870-818c-e428e3bb4e4e",
   "metadata": {},
   "outputs": [],
   "source": [
    "os.makedirs(args.output_challenge_path,exist_ok='True')"
   ]
  },
  {
   "cell_type": "code",
   "execution_count": 19,
   "id": "e88823ba-8abd-45a8-b2e1-d04bd33b28d2",
   "metadata": {},
   "outputs": [],
   "source": [
    "s,mini=divmod(2600,1000)"
   ]
  },
  {
   "cell_type": "code",
   "execution_count": 20,
   "id": "605340d6-7fd5-4f30-9c9b-cd48de1199a9",
   "metadata": {},
   "outputs": [],
   "source": [
    "#均无\n",
    "def process_window(window):\n",
    "    action_dic={}\n",
    "    res=[]\n",
    "    for pre in window:\n",
    "        if pre['label'] not in action_dic:\n",
    "            action_dic[pre['label']]=pre\n",
    "        else:\n",
    "            if float(pre['confidence']) > float(action_dic[pre['label']]['confidence']):\n",
    "                action_dic[pre['label']]=pre\n",
    "                \n",
    "                \n",
    "    for label in action_dic.keys():\n",
    "        \n",
    "        res.append(action_dic[label])\n",
    "    return res"
   ]
  },
  {
   "cell_type": "code",
   "execution_count": 38,
   "id": "5a3216a8-0afe-4798-9c16-dc6736b2f9e5",
   "metadata": {},
   "outputs": [],
   "source": [
    "#四舍五入0.5\n",
    "def process_window(window):\n",
    "    action_dic={}\n",
    "    res=[]\n",
    "    for pre in window:\n",
    "        # s,mini=divmod(int(pre['position']),1000)\n",
    "        # if mini<250:\n",
    "        #     mini=0\n",
    "        # elif 250<=mini<750:\n",
    "        #     mini=500\n",
    "        # else:\n",
    "        #     s+=1\n",
    "        #     mini=0\n",
    "        # pre['position']=str(1000*s+mini)\n",
    "        \n",
    "        \n",
    "        if pre['label'] not in action_dic:\n",
    "            action_dic[pre['label']]=pre\n",
    "        else:\n",
    "            if float(pre['confidence']) > float(action_dic[pre['label']]['confidence']):\n",
    "                action_dic[pre['label']]=pre\n",
    "                \n",
    "                \n",
    "    for label in action_dic.keys():\n",
    "        s,mini=divmod(int(action_dic[label]['position']),1000)\n",
    "        if mini<250:\n",
    "            mini=0\n",
    "        elif 250<=mini<750:\n",
    "            mini=500\n",
    "        else:\n",
    "            s+=1\n",
    "            mini=0\n",
    "        pre['position']=str(1000*s+mini)\n",
    "        \n",
    "        res.append(action_dic[label])\n",
    "    return res"
   ]
  },
  {
   "cell_type": "code",
   "execution_count": 13,
   "id": "fa262e36-8f23-43b7-8ee3-543e2f15491e",
   "metadata": {},
   "outputs": [],
   "source": [
    "#四舍五入1\n",
    "def process_window(window):\n",
    "    action_dic={}\n",
    "    res=[]\n",
    "    for pre in window:\n",
    "              \n",
    "        if pre['label'] not in action_dic:\n",
    "            action_dic[pre['label']]=pre\n",
    "        else:\n",
    "            if float(pre['confidence']) > float(action_dic[pre['label']]['confidence']):\n",
    "                action_dic[pre['label']]=pre\n",
    "                \n",
    "                \n",
    "    for label in action_dic.keys():\n",
    "        s,mini=divmod(int(action_dic[label]['position']),1000)\n",
    "        if mini<500:\n",
    "            mini=0\n",
    "        else:\n",
    "            s+=1\n",
    "            mini=0\n",
    "        action_dic[label]['position']=str(1000*s+mini)\n",
    "        \n",
    "        res.append(action_dic[label])\n",
    "    return res"
   ]
  },
  {
   "cell_type": "code",
   "execution_count": 14,
   "id": "692ec50d-45c1-4d0c-b232-a7c1be7c0efe",
   "metadata": {
    "tags": []
   },
   "outputs": [
    {
     "name": "stdout",
     "output_type": "stream",
     "text": [
      "1\n"
     ]
    },
    {
     "name": "stderr",
     "output_type": "stream",
     "text": [
      "100%|██████████| 100/100 [00:29<00:00,  3.39it/s]\n",
      "100%|██████████| 100/100 [00:08<00:00, 11.36it/s]\n",
      "100%|██████████| 5/5 [00:14<00:00,  2.90s/it]\n"
     ]
    }
   ],
   "source": [
    "total_results=[]\n",
    "window_size=args.window_start\n",
    "while window_size<=args.window_end:\n",
    "    print(window_size)\n",
    "\n",
    "    for cata in tqdm(getListGames(split=\"test\")):\n",
    "        \n",
    "\n",
    "        file=os.path.join(args.source_test_path,cata,'results_spotting.json')\n",
    "        with open(file,'r') as f:\n",
    "            data=json.load(f)\n",
    "        pres=data['predictions']\n",
    "        pres.sort(key=lambda x:(int(x['half']),int(x['position'])))\n",
    "\n",
    "        json_data = {} \n",
    "        total_pre={}\n",
    "        json_data[\"UrlLocal\"]=data['UrlLocal']\n",
    "        json_data[\"predictions\"]=[]\n",
    "\n",
    "        last_half=1\n",
    "        start,end=0,window_size\n",
    "        window=[]\n",
    "        for cur_pre,pre in enumerate(pres):\n",
    "\n",
    "\n",
    "            if start<= int(pre['position'])/1000.0 <end:\n",
    "                window.append(pre)\n",
    "            else:\n",
    "                json_data[\"predictions\"]+=process_window(window)\n",
    "                window=[pre]\n",
    "                # while end<int(pre['position']):\n",
    "                start+=window_size\n",
    "                end+=window_size\n",
    "\n",
    "                if last_half==1 and int(pre['half'])==2:\n",
    "                    last_half=2\n",
    "                    start,end=0,window_size\n",
    "\n",
    "        json_data[\"predictions\"]+=process_window(window)\n",
    "\n",
    "        os.makedirs(os.path.join(args.output_test_path,cata),exist_ok='True')\n",
    "        with open(os.path.join(args.output_test_path,cata,'results_spotting.json'),'w') as f:\n",
    "            json.dump(json_data,f,indent=2)\n",
    "    \n",
    "    PATH_DATASET='/youtu_pedestrian_detection/junweil/action_datasets/soccernet'\n",
    "    PATH_PREDICTIONS=args.output_test_path\n",
    "\n",
    "\n",
    "    from SoccerNet.Evaluation.ActionSpotting import evaluate\n",
    "    results = evaluate(SoccerNet_path=PATH_DATASET, Predictions_path=PATH_PREDICTIONS,\n",
    "                       split=\"test\", version=2, prediction_file=\"results_spotting.json\", metric=\"tight\")\n",
    "\n",
    "    a_map,a_mAP_visible,a_mAP_unshown=results[\"a_mAP\"],results[\"a_mAP_visible\"],results[\"a_mAP_unshown\"]\n",
    "    total_results.append([window_size,a_map,a_mAP_visible,a_mAP_unshown])\n",
    "    \n",
    "    \n",
    "    window_size+=args.window_gap"
   ]
  },
  {
   "cell_type": "code",
   "execution_count": 15,
   "id": "2fc07a03-074a-4c12-ab75-f3ba89bdac61",
   "metadata": {},
   "outputs": [
    {
     "data": {
      "text/plain": [
       "[[1, 0.5339585870942578, 0.6062549112672562, 0.30140809118464723]]"
      ]
     },
     "execution_count": 15,
     "metadata": {},
     "output_type": "execute_result"
    }
   ],
   "source": [
    "total_results"
   ]
  },
  {
   "cell_type": "code",
   "execution_count": 7,
   "id": "1e4cfc54-30d0-4d6a-ae19-36e35bac643c",
   "metadata": {},
   "outputs": [
    {
     "data": {
      "text/plain": [
       "[[1, 0.5486033681432622, 0.6242768434023145, 0.3050219904031737]]"
      ]
     },
     "execution_count": 7,
     "metadata": {},
     "output_type": "execute_result"
    }
   ],
   "source": [
    "total_results"
   ]
  },
  {
   "cell_type": "code",
   "execution_count": 14,
   "id": "c66ea1b8-f250-4070-af79-c0a961e1f8e7",
   "metadata": {},
   "outputs": [
    {
     "data": {
      "text/plain": [
       "[[26.5, 0.3535285850986709, 0.43257104136907215, 0.12459536427751249]]"
      ]
     },
     "execution_count": 14,
     "metadata": {},
     "output_type": "execute_result"
    }
   ],
   "source": [
    "total_results"
   ]
  },
  {
   "cell_type": "code",
   "execution_count": 11,
   "id": "97c8e85a-2305-42c7-be63-ba021de8737e",
   "metadata": {},
   "outputs": [
    {
     "data": {
      "text/plain": [
       "[[26.5, 0.37189007693837783, 0.45514818894529907, 0.13240919371158277]]"
      ]
     },
     "execution_count": 11,
     "metadata": {},
     "output_type": "execute_result"
    }
   ],
   "source": [
    "total_results"
   ]
  },
  {
   "cell_type": "code",
   "execution_count": 111,
   "id": "3e3ed22b-240f-4923-b3ba-b932ad2b3f10",
   "metadata": {},
   "outputs": [],
   "source": [
    "total_results.sort(key=lambda x:-x[1])\n",
    "window_size=total_results[0][0]"
   ]
  },
  {
   "cell_type": "code",
   "execution_count": 8,
   "id": "01e33c1b-333a-4670-bb07-191a5de8be61",
   "metadata": {
    "tags": []
   },
   "outputs": [
    {
     "data": {
      "text/plain": [
       "[[26.5, 0.35720342930911936, 0.43516344480302316, 0.12265363332567633]]"
      ]
     },
     "execution_count": 8,
     "metadata": {},
     "output_type": "execute_result"
    }
   ],
   "source": [
    "total_results"
   ]
  },
  {
   "cell_type": "code",
   "execution_count": 112,
   "id": "deeefe1b-76fc-4c15-9039-1abf80ec1d0b",
   "metadata": {},
   "outputs": [
    {
     "data": {
      "text/plain": [
       "10.0"
      ]
     },
     "execution_count": 112,
     "metadata": {},
     "output_type": "execute_result"
    }
   ],
   "source": [
    "window_size"
   ]
  },
  {
   "cell_type": "code",
   "execution_count": 113,
   "id": "5afc6e77-daa4-46a7-85a0-61becf8b2390",
   "metadata": {
    "collapsed": true,
    "jupyter": {
     "outputs_hidden": true
    },
    "tags": []
   },
   "outputs": [
    {
     "data": {
      "text/plain": [
       "[[10.0, 0.3635886168702596, 0.4452361951226681, 0.13416065650464098],\n",
       " [9.0, 0.3628183949734276, 0.4408861857435958, 0.13129837213006507],\n",
       " [8.0, 0.3623251507985085, 0.4394945123104102, 0.13513755799699895],\n",
       " [9.5, 0.36051810512867954, 0.43839204361662265, 0.13315908195648835],\n",
       " [8.5, 0.3597629987587144, 0.440094394295939, 0.13528863884583778],\n",
       " [7.0, 0.3574157910817314, 0.4357392284301309, 0.13575448732562678],\n",
       " [6.5, 0.3571480587524357, 0.43471564446898003, 0.13501414585936694],\n",
       " [7.5, 0.35633529300113514, 0.43441008626314975, 0.13633516850227909],\n",
       " [5.5, 0.35045527138076066, 0.4247491026570801, 0.13260608574209778],\n",
       " [6.0, 0.3503767726499682, 0.42360994858021006, 0.1333123736889443],\n",
       " [5.0, 0.3486040402767273, 0.4253135064499454, 0.1337106279009972],\n",
       " [4.0, 0.34435912502347854, 0.41643962807336105, 0.1324311198498365],\n",
       " [4.5, 0.3424705960086811, 0.41638542665409883, 0.1315793889648043],\n",
       " [3.5, 0.3370436435125208, 0.40952792182902686, 0.13061871362556607],\n",
       " [3.0, 0.32788232376722665, 0.39890128914740625, 0.12454136892284653],\n",
       " [2.5, 0.31738358149903073, 0.3887606985261802, 0.1282810929544733],\n",
       " [2.0, 0.30903594019134095, 0.3784507691330045, 0.12499910886668987],\n",
       " [1.5, 0.2887326350107374, 0.35412856259022796, 0.11548453472980105],\n",
       " [1.0, 0.26069428290941893, 0.3211136201936504, 0.10628291237676733],\n",
       " [0, 0.21150472288747466, 0.2626138776754105, 0.08868845599455046],\n",
       " [0.5, 0.21150472288747466, 0.2626138776754105, 0.08868845599455046]]"
      ]
     },
     "execution_count": 113,
     "metadata": {},
     "output_type": "execute_result"
    }
   ],
   "source": [
    "total_results"
   ]
  },
  {
   "cell_type": "code",
   "execution_count": 26,
   "id": "569c8f1f-0c01-4c21-80d3-f56c267346c7",
   "metadata": {},
   "outputs": [],
   "source": [
    "window_size=1"
   ]
  },
  {
   "cell_type": "code",
   "execution_count": 27,
   "id": "b3f12f4a-c206-4041-9e3a-dcfabb44728d",
   "metadata": {},
   "outputs": [
    {
     "data": {
      "text/plain": [
       "1"
      ]
     },
     "execution_count": 27,
     "metadata": {},
     "output_type": "execute_result"
    }
   ],
   "source": [
    "window_size"
   ]
  },
  {
   "cell_type": "code",
   "execution_count": 39,
   "id": "094a7805-74d2-43af-8958-dd7917b6cbac",
   "metadata": {
    "tags": []
   },
   "outputs": [
    {
     "name": "stderr",
     "output_type": "stream",
     "text": [
      "100%|██████████| 50/50 [00:15<00:00,  3.30it/s]\n"
     ]
    }
   ],
   "source": [
    "for cata in tqdm(getListGames(split=\"challenge\")):\n",
    "    \n",
    "    file=os.path.join(args.source_challenge_path,cata,'results_spotting.json')\n",
    "    with open(file,'r') as f:\n",
    "        data=json.load(f)\n",
    "    pres=data['predictions']\n",
    "    pres.sort(key=lambda x:(int(x['half']),int(x['position'])))\n",
    "    \n",
    "    json_data = {} \n",
    "    total_pre={}\n",
    "    json_data[\"UrlLocal\"]=data['UrlLocal']\n",
    "    json_data[\"predictions\"]=[]\n",
    "    \n",
    "    last_half=1\n",
    "    start,end=0,window_size\n",
    "    window=[]\n",
    "    for cur_pre,pre in enumerate(pres):\n",
    "\n",
    "        \n",
    "        if start<= int(pre['position'])/1000.0 <end:\n",
    "            window.append(pre)\n",
    "        else:\n",
    "            json_data[\"predictions\"]+=process_window(window)\n",
    "            window=[pre]\n",
    "            start+=window_size\n",
    "            end+=window_size\n",
    "            \n",
    "            if last_half==1 and int(pre['half'])==2:\n",
    "                last_half=2\n",
    "                start,end=0,window_size\n",
    "         \n",
    "    json_data[\"predictions\"]+=process_window(window)\n",
    "    \n",
    "    os.makedirs(os.path.join(args.output_challenge_path,cata),exist_ok='True')\n",
    "    with open(os.path.join(args.output_challenge_path,cata,'results_spotting.json'),'w') as f:\n",
    "        json.dump(json_data,f,indent=2)\n",
    "    \n",
    "    \n"
   ]
  }
 ],
 "metadata": {
  "kernelspec": {
   "display_name": "soccer",
   "language": "python",
   "name": "soccer"
  },
  "language_info": {
   "codemirror_mode": {
    "name": "ipython",
    "version": 3
   },
   "file_extension": ".py",
   "mimetype": "text/x-python",
   "name": "python",
   "nbconvert_exporter": "python",
   "pygments_lexer": "ipython3",
   "version": "3.6.13"
  }
 },
 "nbformat": 4,
 "nbformat_minor": 5
}
