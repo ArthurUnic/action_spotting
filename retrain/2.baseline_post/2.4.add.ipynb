{
 "cells": [
  {
   "cell_type": "code",
   "execution_count": null,
   "id": "6e1f377a-cf95-4b4e-9959-42e47d83669c",
   "metadata": {},
   "outputs": [],
   "source": []
  },
  {
   "cell_type": "code",
   "execution_count": 10,
   "id": "fb40ab36-6963-4811-b4be-699a3d96c5f3",
   "metadata": {},
   "outputs": [],
   "source": [
    "import argparse\n",
    "from SoccerNet.utils import getListGames\n",
    "import os\n",
    "import json\n",
    "from tqdm import tqdm\n",
    "import numpy as np\n",
    "from SoccerNet.Evaluation.ActionSpotting import evaluate"
   ]
  },
  {
   "cell_type": "code",
   "execution_count": 25,
   "id": "689c87d6-60c0-4939-9499-2c4e53e076f7",
   "metadata": {},
   "outputs": [],
   "source": [
    "parser = argparse.ArgumentParser()\n",
    "# parser.add_argument(\"--anno_file\",default='')\n",
    "parser.add_argument(\"--source_test_path\",default='/youtu_pedestrian_detection/chengzhilin/program/soccernet/models/MVIT_FULL/outputs_test')#输入test文件夹 \n",
    "parser.add_argument(\"--output_test_path\",default='/youtu_pedestrian_detection/zhuhe/soccernet/submit/output')  #筛选后test文件夹\n",
    "\n",
    "parser.add_argument(\"--source_challenge_path\",default='/youtu_pedestrian_detection/chengzhilin/program/soccernet/models/MVIT_FULL/outputs_challenge')#输入challenge文件夹 \n",
    "parser.add_argument(\"--output_challenge_path\", default=\"/youtu_pedestrian_detection/zhuhe/soccernet/submit/challenge_add_0.4\")  #输出challenge文件夹\n",
    "parser.add_argument('--time_start', type=int,   default=0,     help='Size of the chunk (in seconds)' )\n",
    "parser.add_argument('--time_end', type=int,   default=1,     help='Size of the chunk (in seconds)' )\n",
    "parser.add_argument('--time_gap',  type=int,   default=0.1,     help='Size of the chunk (in seconds)' )\n",
    "\n",
    "parser.add_argument('--window_size',  type=int,   default=1,     help='Size of the chunk (in seconds)' )\n",
    "\n",
    "args=parser.parse_args([])"
   ]
  },
  {
   "cell_type": "code",
   "execution_count": 12,
   "id": "80549ddd-0bb5-4a47-8615-a303b52502ab",
   "metadata": {},
   "outputs": [],
   "source": [
    "os.makedirs(args.output_challenge_path,exist_ok='True')"
   ]
  },
  {
   "cell_type": "code",
   "execution_count": null,
   "id": "feee5799-3c72-42f9-a7fc-e34ba85d6e74",
   "metadata": {},
   "outputs": [],
   "source": []
  },
  {
   "cell_type": "code",
   "execution_count": 13,
   "id": "6fe11c91-8d57-4ab1-bd39-2619b62c60ae",
   "metadata": {},
   "outputs": [],
   "source": [
    "def process_window(window):\n",
    "    action_dic={}\n",
    "    res=[]\n",
    "    for pre in window:\n",
    "              \n",
    "        if pre['label'] not in action_dic:\n",
    "            action_dic[pre['label']]=pre\n",
    "        else:\n",
    "            if float(pre['confidence']) > float(action_dic[pre['label']]['confidence']):\n",
    "                action_dic[pre['label']]=pre\n",
    "                \n",
    "                \n",
    "    for label in action_dic.keys():\n",
    "        time=int(float(action_dic[label]['position']))\n",
    "        time+=add_time*1000\n",
    "        if time<0: time=0\n",
    "        action_dic[label]['position']=str(int(time))\n",
    "        \n",
    "        res.append(action_dic[label])\n",
    "    return res"
   ]
  },
  {
   "cell_type": "code",
   "execution_count": 14,
   "id": "3f25cbf6-5379-42ea-9fda-2a6d7d56a66d",
   "metadata": {
    "tags": []
   },
   "outputs": [
    {
     "name": "stdout",
     "output_type": "stream",
     "text": [
      "0\n"
     ]
    },
    {
     "name": "stderr",
     "output_type": "stream",
     "text": [
      "100%|██████████| 100/100 [00:23<00:00,  4.23it/s]\n",
      "100%|██████████| 100/100 [00:14<00:00,  7.12it/s]\n",
      "100%|██████████| 5/5 [00:14<00:00,  2.83s/it]\n"
     ]
    },
    {
     "name": "stdout",
     "output_type": "stream",
     "text": [
      "0.1\n"
     ]
    },
    {
     "name": "stderr",
     "output_type": "stream",
     "text": [
      "100%|██████████| 100/100 [00:21<00:00,  4.62it/s]\n",
      "100%|██████████| 100/100 [00:13<00:00,  7.66it/s]\n",
      "100%|██████████| 5/5 [00:13<00:00,  2.76s/it]\n"
     ]
    },
    {
     "name": "stdout",
     "output_type": "stream",
     "text": [
      "0.2\n"
     ]
    },
    {
     "name": "stderr",
     "output_type": "stream",
     "text": [
      "100%|██████████| 100/100 [00:31<00:00,  3.16it/s]\n",
      "100%|██████████| 100/100 [00:20<00:00,  4.83it/s]\n",
      "100%|██████████| 5/5 [00:13<00:00,  2.73s/it]\n"
     ]
    },
    {
     "name": "stdout",
     "output_type": "stream",
     "text": [
      "0.30000000000000004\n"
     ]
    },
    {
     "name": "stderr",
     "output_type": "stream",
     "text": [
      "100%|██████████| 100/100 [00:47<00:00,  2.10it/s]\n",
      "100%|██████████| 100/100 [00:28<00:00,  3.53it/s]\n",
      "100%|██████████| 5/5 [00:13<00:00,  2.75s/it]\n"
     ]
    },
    {
     "name": "stdout",
     "output_type": "stream",
     "text": [
      "0.4\n"
     ]
    },
    {
     "name": "stderr",
     "output_type": "stream",
     "text": [
      "100%|██████████| 100/100 [00:37<00:00,  2.70it/s]\n",
      "100%|██████████| 100/100 [00:25<00:00,  3.87it/s]\n",
      "100%|██████████| 5/5 [00:13<00:00,  2.72s/it]\n"
     ]
    },
    {
     "name": "stdout",
     "output_type": "stream",
     "text": [
      "0.5\n"
     ]
    },
    {
     "name": "stderr",
     "output_type": "stream",
     "text": [
      "100%|██████████| 100/100 [00:49<00:00,  2.01it/s]\n",
      "100%|██████████| 100/100 [00:20<00:00,  4.83it/s]\n",
      "100%|██████████| 5/5 [00:13<00:00,  2.74s/it]\n"
     ]
    },
    {
     "name": "stdout",
     "output_type": "stream",
     "text": [
      "0.6\n"
     ]
    },
    {
     "name": "stderr",
     "output_type": "stream",
     "text": [
      "100%|██████████| 100/100 [00:50<00:00,  1.99it/s]\n",
      "100%|██████████| 100/100 [00:16<00:00,  5.97it/s]\n",
      "100%|██████████| 5/5 [00:13<00:00,  2.76s/it]\n"
     ]
    },
    {
     "name": "stdout",
     "output_type": "stream",
     "text": [
      "0.7\n"
     ]
    },
    {
     "name": "stderr",
     "output_type": "stream",
     "text": [
      "100%|██████████| 100/100 [00:55<00:00,  1.79it/s]\n",
      "100%|██████████| 100/100 [00:10<00:00,  9.78it/s]\n",
      "100%|██████████| 5/5 [00:13<00:00,  2.65s/it]\n"
     ]
    },
    {
     "name": "stdout",
     "output_type": "stream",
     "text": [
      "0.7999999999999999\n"
     ]
    },
    {
     "name": "stderr",
     "output_type": "stream",
     "text": [
      "100%|██████████| 100/100 [01:02<00:00,  1.60it/s]\n",
      "100%|██████████| 100/100 [00:14<00:00,  6.97it/s]\n",
      "100%|██████████| 5/5 [00:13<00:00,  2.65s/it]\n"
     ]
    },
    {
     "name": "stdout",
     "output_type": "stream",
     "text": [
      "0.8999999999999999\n"
     ]
    },
    {
     "name": "stderr",
     "output_type": "stream",
     "text": [
      "100%|██████████| 100/100 [00:56<00:00,  1.76it/s]\n",
      "100%|██████████| 100/100 [00:15<00:00,  6.45it/s]\n",
      "100%|██████████| 5/5 [00:13<00:00,  2.65s/it]\n"
     ]
    },
    {
     "name": "stdout",
     "output_type": "stream",
     "text": [
      "0.9999999999999999\n"
     ]
    },
    {
     "name": "stderr",
     "output_type": "stream",
     "text": [
      "100%|██████████| 100/100 [01:16<00:00,  1.30it/s]\n",
      "100%|██████████| 100/100 [00:21<00:00,  4.58it/s]\n",
      "100%|██████████| 5/5 [00:13<00:00,  2.61s/it]\n"
     ]
    }
   ],
   "source": [
    "total_results=[]\n",
    "window_size=args.window_size\n",
    "\n",
    "add_time=args.time_start\n",
    "while add_time<=args.time_end:\n",
    "\n",
    "\n",
    "    print(add_time)\n",
    "\n",
    "    for cata in tqdm(getListGames(split=\"test\")):\n",
    "        \n",
    "\n",
    "        file=os.path.join(args.source_test_path,cata,'results_spotting.json')\n",
    "        with open(file,'r') as f:\n",
    "            data=json.load(f)\n",
    "        pres=data['predictions']\n",
    "        pres.sort(key=lambda x:(int(x['half']),int(x['position'])))\n",
    "\n",
    "        json_data = {} \n",
    "        total_pre={}\n",
    "        json_data[\"UrlLocal\"]=data['UrlLocal']\n",
    "        json_data[\"predictions\"]=[]\n",
    "\n",
    "        last_half=1\n",
    "        start,end=0,window_size\n",
    "        window=[]\n",
    "        for cur_pre,pre in enumerate(pres):\n",
    "\n",
    "\n",
    "            if start<= int(pre['position'])/1000.0 <end:\n",
    "                window.append(pre)\n",
    "            else:\n",
    "                json_data[\"predictions\"]+=process_window(window)\n",
    "                window=[pre]\n",
    "                # while end<int(pre['position']):\n",
    "                start+=window_size\n",
    "                end+=window_size\n",
    "\n",
    "                if last_half==1 and int(pre['half'])==2:\n",
    "                    last_half=2\n",
    "                    start,end=0,window_size\n",
    "\n",
    "        json_data[\"predictions\"]+=process_window(window)\n",
    "\n",
    "        os.makedirs(os.path.join(args.output_test_path,cata),exist_ok='True')\n",
    "        with open(os.path.join(args.output_test_path,cata,'results_spotting.json'),'w') as f:\n",
    "            json.dump(json_data,f,indent=2)\n",
    "    \n",
    "    PATH_DATASET='/youtu_pedestrian_detection/junweil/action_datasets/soccernet'\n",
    "    PATH_PREDICTIONS=args.output_test_path\n",
    "\n",
    "\n",
    "    from SoccerNet.Evaluation.ActionSpotting import evaluate\n",
    "    results = evaluate(SoccerNet_path=PATH_DATASET, Predictions_path=PATH_PREDICTIONS,\n",
    "                       split=\"test\", version=2, prediction_file=\"results_spotting.json\", metric=\"tight\")\n",
    "\n",
    "    a_map,a_mAP_visible,a_mAP_unshown=results[\"a_mAP\"],results[\"a_mAP_visible\"],results[\"a_mAP_unshown\"]\n",
    "    total_results.append([add_time,a_map,a_mAP_visible,a_mAP_unshown])\n",
    "    \n",
    "    \n",
    "    add_time+=args.time_gap"
   ]
  },
  {
   "cell_type": "code",
   "execution_count": 14,
   "id": "2b299f6a-25d4-4415-a287-bfb1c753d45c",
   "metadata": {},
   "outputs": [
    {
     "data": {
      "text/plain": [
       "[[26.5, 0.3535285850986709, 0.43257104136907215, 0.12459536427751249]]"
      ]
     },
     "execution_count": 14,
     "metadata": {},
     "output_type": "execute_result"
    }
   ],
   "source": [
    "total_results"
   ]
  },
  {
   "cell_type": "code",
   "execution_count": 11,
   "id": "25f881e6-1ee4-4ba9-b64a-cc97950ffa7c",
   "metadata": {},
   "outputs": [
    {
     "data": {
      "text/plain": [
       "[[26.5, 0.37189007693837783, 0.45514818894529907, 0.13240919371158277]]"
      ]
     },
     "execution_count": 11,
     "metadata": {},
     "output_type": "execute_result"
    }
   ],
   "source": [
    "total_results"
   ]
  },
  {
   "cell_type": "code",
   "execution_count": 15,
   "id": "fe8571b6-00ef-470b-afa0-2209d6b4b2fb",
   "metadata": {},
   "outputs": [],
   "source": [
    "total_results.sort(key=lambda x:-x[1])\n",
    "window_size=total_results[0][0]"
   ]
  },
  {
   "cell_type": "code",
   "execution_count": 16,
   "id": "e8343197-f574-457d-a71b-3d78c2d95e95",
   "metadata": {
    "tags": []
   },
   "outputs": [
    {
     "data": {
      "text/plain": [
       "[[0.4, 0.5500334271598455, 0.6277773366098063, 0.2988011337024556],\n",
       " [0.5, 0.5490917122506327, 0.6280780577037764, 0.29400246049331125],\n",
       " [0.6, 0.5472310532455537, 0.6269390831012711, 0.28892321982364844],\n",
       " [0.30000000000000004,\n",
       "  0.5467036449930434,\n",
       "  0.6220349210306454,\n",
       "  0.30048090439486014],\n",
       " [0.7, 0.5442041592001741, 0.62319374285478, 0.28432045769303643],\n",
       " [0.2, 0.5400769653273818, 0.6144542857286631, 0.3011417840590246],\n",
       " [0.7999999999999999,\n",
       "  0.5369053950043977,\n",
       "  0.6167656389331209,\n",
       "  0.2802232990352241],\n",
       " [0.1, 0.5324807066431241, 0.6051081932546492, 0.302009711647571],\n",
       " [0.8999999999999999,\n",
       "  0.5280811957592768,\n",
       "  0.6076353228090435,\n",
       "  0.2749819006261527],\n",
       " [0, 0.5231123235011503, 0.5940917375828612, 0.30209996583449655],\n",
       " [0.9999999999999999,\n",
       "  0.5145180448554506,\n",
       "  0.5931507004330768,\n",
       "  0.25619773143808644]]"
      ]
     },
     "execution_count": 16,
     "metadata": {},
     "output_type": "execute_result"
    }
   ],
   "source": [
    "total_results"
   ]
  },
  {
   "cell_type": "code",
   "execution_count": 112,
   "id": "1c123e21-75b0-4eba-8152-8f7926d33f4e",
   "metadata": {},
   "outputs": [
    {
     "data": {
      "text/plain": [
       "10.0"
      ]
     },
     "execution_count": 112,
     "metadata": {},
     "output_type": "execute_result"
    }
   ],
   "source": [
    "window_size"
   ]
  },
  {
   "cell_type": "code",
   "execution_count": 113,
   "id": "32dfec24-2a00-4eab-a9d7-a937c6c34b85",
   "metadata": {
    "collapsed": true,
    "jupyter": {
     "outputs_hidden": true
    },
    "tags": []
   },
   "outputs": [
    {
     "data": {
      "text/plain": [
       "[[10.0, 0.3635886168702596, 0.4452361951226681, 0.13416065650464098],\n",
       " [9.0, 0.3628183949734276, 0.4408861857435958, 0.13129837213006507],\n",
       " [8.0, 0.3623251507985085, 0.4394945123104102, 0.13513755799699895],\n",
       " [9.5, 0.36051810512867954, 0.43839204361662265, 0.13315908195648835],\n",
       " [8.5, 0.3597629987587144, 0.440094394295939, 0.13528863884583778],\n",
       " [7.0, 0.3574157910817314, 0.4357392284301309, 0.13575448732562678],\n",
       " [6.5, 0.3571480587524357, 0.43471564446898003, 0.13501414585936694],\n",
       " [7.5, 0.35633529300113514, 0.43441008626314975, 0.13633516850227909],\n",
       " [5.5, 0.35045527138076066, 0.4247491026570801, 0.13260608574209778],\n",
       " [6.0, 0.3503767726499682, 0.42360994858021006, 0.1333123736889443],\n",
       " [5.0, 0.3486040402767273, 0.4253135064499454, 0.1337106279009972],\n",
       " [4.0, 0.34435912502347854, 0.41643962807336105, 0.1324311198498365],\n",
       " [4.5, 0.3424705960086811, 0.41638542665409883, 0.1315793889648043],\n",
       " [3.5, 0.3370436435125208, 0.40952792182902686, 0.13061871362556607],\n",
       " [3.0, 0.32788232376722665, 0.39890128914740625, 0.12454136892284653],\n",
       " [2.5, 0.31738358149903073, 0.3887606985261802, 0.1282810929544733],\n",
       " [2.0, 0.30903594019134095, 0.3784507691330045, 0.12499910886668987],\n",
       " [1.5, 0.2887326350107374, 0.35412856259022796, 0.11548453472980105],\n",
       " [1.0, 0.26069428290941893, 0.3211136201936504, 0.10628291237676733],\n",
       " [0, 0.21150472288747466, 0.2626138776754105, 0.08868845599455046],\n",
       " [0.5, 0.21150472288747466, 0.2626138776754105, 0.08868845599455046]]"
      ]
     },
     "execution_count": 113,
     "metadata": {},
     "output_type": "execute_result"
    }
   ],
   "source": [
    "total_results"
   ]
  },
  {
   "cell_type": "code",
   "execution_count": 28,
   "id": "a7775f7b-431b-46fe-8e55-8e4e7e745d34",
   "metadata": {},
   "outputs": [],
   "source": [
    "add_time=0.4"
   ]
  },
  {
   "cell_type": "code",
   "execution_count": 29,
   "id": "587880a7-79a5-49ff-8e29-bda346f96015",
   "metadata": {},
   "outputs": [
    {
     "data": {
      "text/plain": [
       "0.4"
      ]
     },
     "execution_count": 29,
     "metadata": {},
     "output_type": "execute_result"
    }
   ],
   "source": [
    "add_time"
   ]
  },
  {
   "cell_type": "code",
   "execution_count": 26,
   "id": "952c0dc7-838c-4051-b3b2-f3b18cd16728",
   "metadata": {},
   "outputs": [
    {
     "data": {
      "text/plain": [
       "0.4"
      ]
     },
     "execution_count": 26,
     "metadata": {},
     "output_type": "execute_result"
    }
   ],
   "source": [
    "window_size"
   ]
  },
  {
   "cell_type": "code",
   "execution_count": 30,
   "id": "e32638f4-0e89-409e-adfc-eae715251042",
   "metadata": {
    "tags": []
   },
   "outputs": [
    {
     "name": "stderr",
     "output_type": "stream",
     "text": [
      "100%|██████████| 50/50 [00:16<00:00,  3.09it/s]\n"
     ]
    }
   ],
   "source": [
    "for cata in tqdm(getListGames(split=\"challenge\")):\n",
    "    \n",
    "    file=os.path.join(args.source_challenge_path,cata,'results_spotting.json')\n",
    "    with open(file,'r') as f:\n",
    "        data=json.load(f)\n",
    "    pres=data['predictions']\n",
    "    pres.sort(key=lambda x:(int(x['half']),int(x['position'])))\n",
    "    \n",
    "    json_data = {} \n",
    "    total_pre={}\n",
    "    json_data[\"UrlLocal\"]=data['UrlLocal']\n",
    "    json_data[\"predictions\"]=[]\n",
    "    \n",
    "    last_half=1\n",
    "    start,end=0,window_size\n",
    "    window=[]\n",
    "    for cur_pre,pre in enumerate(pres):\n",
    "\n",
    "        \n",
    "        if start<= int(pre['position'])/1000.0 <end:\n",
    "            window.append(pre)\n",
    "        else:\n",
    "            json_data[\"predictions\"]+=process_window(window)\n",
    "            window=[pre]\n",
    "            start+=window_size\n",
    "            end+=window_size\n",
    "            \n",
    "            if last_half==1 and int(pre['half'])==2:\n",
    "                last_half=2\n",
    "                start,end=0,window_size\n",
    "         \n",
    "    json_data[\"predictions\"]+=process_window(window)\n",
    "    \n",
    "    os.makedirs(os.path.join(args.output_challenge_path,cata),exist_ok='True')\n",
    "    with open(os.path.join(args.output_challenge_path,cata,'results_spotting.json'),'w') as f:\n",
    "        json.dump(json_data,f,indent=2)\n",
    "    \n",
    "    \n"
   ]
  }
 ],
 "metadata": {
  "kernelspec": {
   "display_name": "soccer",
   "language": "python",
   "name": "soccer"
  },
  "language_info": {
   "codemirror_mode": {
    "name": "ipython",
    "version": 3
   },
   "file_extension": ".py",
   "mimetype": "text/x-python",
   "name": "python",
   "nbconvert_exporter": "python",
   "pygments_lexer": "ipython3",
   "version": "3.6.13"
  }
 },
 "nbformat": 4,
 "nbformat_minor": 5
}
