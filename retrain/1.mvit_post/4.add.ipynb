{
 "cells": [
  {
   "cell_type": "code",
   "execution_count": null,
   "id": "6e1f377a-cf95-4b4e-9959-42e47d83669c",
   "metadata": {},
   "outputs": [],
   "source": []
  },
  {
   "cell_type": "code",
   "execution_count": 1,
   "id": "fb40ab36-6963-4811-b4be-699a3d96c5f3",
   "metadata": {},
   "outputs": [],
   "source": [
    "import argparse\n",
    "from SoccerNet.utils import getListGames\n",
    "import os\n",
    "import json\n",
    "from tqdm import tqdm\n",
    "import numpy as np\n",
    "from SoccerNet.Evaluation.ActionSpotting import evaluate"
   ]
  },
  {
   "cell_type": "code",
   "execution_count": 19,
   "id": "689c87d6-60c0-4939-9499-2c4e53e076f7",
   "metadata": {},
   "outputs": [],
   "source": [
    "parser = argparse.ArgumentParser()\n",
    "# parser.add_argument(\"--anno_file\",default='')\n",
    "parser.add_argument(\"--source_test_path\",default='/youtu_pedestrian_detection/zhuhe/soccernet/submit/size_224_with_bg')#输入test文件夹 \n",
    "parser.add_argument(\"--output_test_path\",default='/youtu_pedestrian_detection/zhuhe/soccernet/submit/output')  #筛选后test文件夹\n",
    "\n",
    "parser.add_argument(\"--source_challenge_path\",default='/youtu_pedestrian_detection/zhuhe/soccernet/submit/challenge_224_all')#输入challenge文件夹 \n",
    "parser.add_argument(\"--output_challenge_path\", default=\"/youtu_pedestrian_detection/zhuhe/soccernet/submit/challenge_224_all_44\")  #输出challenge文件夹\n",
    "parser.add_argument('--time_start', type=int,   default=-5,     help='Size of the chunk (in seconds)' )\n",
    "parser.add_argument('--time_end', type=int,   default=5,     help='Size of the chunk (in seconds)' )\n",
    "parser.add_argument('--time_gap',  type=int,   default=0.5,     help='Size of the chunk (in seconds)' )\n",
    "\n",
    "parser.add_argument('--window_size',  type=int,   default=26.5,     help='Size of the chunk (in seconds)' )\n",
    "\n",
    "args=parser.parse_args([])"
   ]
  },
  {
   "cell_type": "code",
   "execution_count": 3,
   "id": "80549ddd-0bb5-4a47-8615-a303b52502ab",
   "metadata": {},
   "outputs": [],
   "source": [
    "os.makedirs(args.output_challenge_path,exist_ok='True')"
   ]
  },
  {
   "cell_type": "code",
   "execution_count": null,
   "id": "feee5799-3c72-42f9-a7fc-e34ba85d6e74",
   "metadata": {},
   "outputs": [],
   "source": []
  },
  {
   "cell_type": "code",
   "execution_count": 17,
   "id": "6fe11c91-8d57-4ab1-bd39-2619b62c60ae",
   "metadata": {},
   "outputs": [],
   "source": [
    "def process_window(window):\n",
    "    action_dic={}\n",
    "    res=[]\n",
    "    for pre in window:\n",
    "              \n",
    "        if pre['label'] not in action_dic:\n",
    "            action_dic[pre['label']]=pre\n",
    "        else:\n",
    "            if float(pre['confidence']) > float(action_dic[pre['label']]['confidence']):\n",
    "                action_dic[pre['label']]=pre\n",
    "                \n",
    "                \n",
    "    for label in action_dic.keys():\n",
    "        time=int(float(action_dic[label]['position']))\n",
    "        time+=add_time*1000\n",
    "        if time<0: time=0\n",
    "        action_dic[label]['position']=str(int(time))\n",
    "        \n",
    "        res.append(action_dic[label])\n",
    "    return res"
   ]
  },
  {
   "cell_type": "code",
   "execution_count": 20,
   "id": "3f25cbf6-5379-42ea-9fda-2a6d7d56a66d",
   "metadata": {
    "tags": []
   },
   "outputs": [
    {
     "name": "stdout",
     "output_type": "stream",
     "text": [
      "-5\n"
     ]
    },
    {
     "name": "stderr",
     "output_type": "stream",
     "text": [
      "100%|██████████| 100/100 [00:31<00:00,  3.17it/s]\n",
      "100%|██████████| 100/100 [00:08<00:00, 11.35it/s]\n",
      "100%|██████████| 5/5 [00:11<00:00,  2.39s/it]\n"
     ]
    },
    {
     "name": "stdout",
     "output_type": "stream",
     "text": [
      "-4.5\n"
     ]
    },
    {
     "name": "stderr",
     "output_type": "stream",
     "text": [
      "100%|██████████| 100/100 [00:28<00:00,  3.53it/s]\n",
      "100%|██████████| 100/100 [00:07<00:00, 12.56it/s]\n",
      "100%|██████████| 5/5 [00:11<00:00,  2.39s/it]\n"
     ]
    },
    {
     "name": "stdout",
     "output_type": "stream",
     "text": [
      "-4.0\n"
     ]
    },
    {
     "name": "stderr",
     "output_type": "stream",
     "text": [
      "100%|██████████| 100/100 [00:29<00:00,  3.41it/s]\n",
      "100%|██████████| 100/100 [00:08<00:00, 12.05it/s]\n",
      "100%|██████████| 5/5 [00:11<00:00,  2.37s/it]\n"
     ]
    },
    {
     "name": "stdout",
     "output_type": "stream",
     "text": [
      "-3.5\n"
     ]
    },
    {
     "name": "stderr",
     "output_type": "stream",
     "text": [
      "100%|██████████| 100/100 [00:30<00:00,  3.23it/s]\n",
      "100%|██████████| 100/100 [00:06<00:00, 14.59it/s]\n",
      "100%|██████████| 5/5 [00:11<00:00,  2.26s/it]\n"
     ]
    },
    {
     "name": "stdout",
     "output_type": "stream",
     "text": [
      "-3.0\n"
     ]
    },
    {
     "name": "stderr",
     "output_type": "stream",
     "text": [
      "100%|██████████| 100/100 [00:29<00:00,  3.42it/s]\n",
      "100%|██████████| 100/100 [00:09<00:00, 10.43it/s]\n",
      "100%|██████████| 5/5 [00:12<00:00,  2.45s/it]\n"
     ]
    },
    {
     "name": "stdout",
     "output_type": "stream",
     "text": [
      "-2.5\n"
     ]
    },
    {
     "name": "stderr",
     "output_type": "stream",
     "text": [
      "100%|██████████| 100/100 [00:30<00:00,  3.32it/s]\n",
      "100%|██████████| 100/100 [00:09<00:00, 10.76it/s]\n",
      "100%|██████████| 5/5 [00:12<00:00,  2.42s/it]\n"
     ]
    },
    {
     "name": "stdout",
     "output_type": "stream",
     "text": [
      "-2.0\n"
     ]
    },
    {
     "name": "stderr",
     "output_type": "stream",
     "text": [
      "100%|██████████| 100/100 [00:29<00:00,  3.43it/s]\n",
      "100%|██████████| 100/100 [00:08<00:00, 11.85it/s]\n",
      "100%|██████████| 5/5 [00:12<00:00,  2.43s/it]\n"
     ]
    },
    {
     "name": "stdout",
     "output_type": "stream",
     "text": [
      "-1.5\n"
     ]
    },
    {
     "name": "stderr",
     "output_type": "stream",
     "text": [
      "100%|██████████| 100/100 [00:33<00:00,  2.99it/s]\n",
      "100%|██████████| 100/100 [00:09<00:00, 10.57it/s]\n",
      "100%|██████████| 5/5 [00:12<00:00,  2.42s/it]\n"
     ]
    },
    {
     "name": "stdout",
     "output_type": "stream",
     "text": [
      "-1.0\n"
     ]
    },
    {
     "name": "stderr",
     "output_type": "stream",
     "text": [
      "100%|██████████| 100/100 [00:30<00:00,  3.31it/s]\n",
      "100%|██████████| 100/100 [00:08<00:00, 12.13it/s]\n",
      "100%|██████████| 5/5 [00:12<00:00,  2.49s/it]\n"
     ]
    },
    {
     "name": "stdout",
     "output_type": "stream",
     "text": [
      "-0.5\n"
     ]
    },
    {
     "name": "stderr",
     "output_type": "stream",
     "text": [
      "100%|██████████| 100/100 [00:28<00:00,  3.45it/s]\n",
      "100%|██████████| 100/100 [00:09<00:00, 10.07it/s]\n",
      "100%|██████████| 5/5 [00:12<00:00,  2.41s/it]\n"
     ]
    },
    {
     "name": "stdout",
     "output_type": "stream",
     "text": [
      "0.0\n"
     ]
    },
    {
     "name": "stderr",
     "output_type": "stream",
     "text": [
      "100%|██████████| 100/100 [00:33<00:00,  3.02it/s]\n",
      "100%|██████████| 100/100 [00:10<00:00,  9.51it/s]\n",
      "100%|██████████| 5/5 [00:12<00:00,  2.43s/it]\n"
     ]
    },
    {
     "name": "stdout",
     "output_type": "stream",
     "text": [
      "0.5\n"
     ]
    },
    {
     "name": "stderr",
     "output_type": "stream",
     "text": [
      "100%|██████████| 100/100 [00:31<00:00,  3.17it/s]\n",
      "100%|██████████| 100/100 [00:10<00:00,  9.91it/s]\n",
      "100%|██████████| 5/5 [00:12<00:00,  2.47s/it]\n"
     ]
    },
    {
     "name": "stdout",
     "output_type": "stream",
     "text": [
      "1.0\n"
     ]
    },
    {
     "name": "stderr",
     "output_type": "stream",
     "text": [
      "100%|██████████| 100/100 [00:33<00:00,  3.01it/s]\n",
      "100%|██████████| 100/100 [00:09<00:00, 10.43it/s]\n",
      "100%|██████████| 5/5 [00:12<00:00,  2.45s/it]\n"
     ]
    },
    {
     "name": "stdout",
     "output_type": "stream",
     "text": [
      "1.5\n"
     ]
    },
    {
     "name": "stderr",
     "output_type": "stream",
     "text": [
      "100%|██████████| 100/100 [00:32<00:00,  3.09it/s]\n",
      "100%|██████████| 100/100 [00:10<00:00,  9.62it/s]\n",
      "100%|██████████| 5/5 [00:11<00:00,  2.36s/it]\n"
     ]
    },
    {
     "name": "stdout",
     "output_type": "stream",
     "text": [
      "2.0\n"
     ]
    },
    {
     "name": "stderr",
     "output_type": "stream",
     "text": [
      "100%|██████████| 100/100 [00:33<00:00,  2.99it/s]\n",
      "100%|██████████| 100/100 [00:09<00:00, 10.76it/s]\n",
      "100%|██████████| 5/5 [00:12<00:00,  2.42s/it]\n"
     ]
    },
    {
     "name": "stdout",
     "output_type": "stream",
     "text": [
      "2.5\n"
     ]
    },
    {
     "name": "stderr",
     "output_type": "stream",
     "text": [
      "100%|██████████| 100/100 [00:37<00:00,  2.68it/s]\n",
      "100%|██████████| 100/100 [00:11<00:00,  8.66it/s]\n",
      "100%|██████████| 5/5 [00:12<00:00,  2.43s/it]\n"
     ]
    },
    {
     "name": "stdout",
     "output_type": "stream",
     "text": [
      "3.0\n"
     ]
    },
    {
     "name": "stderr",
     "output_type": "stream",
     "text": [
      "100%|██████████| 100/100 [00:40<00:00,  2.45it/s]\n",
      " 85%|████████▌ | 85/100 [00:13<00:02,  6.40it/s]\n"
     ]
    },
    {
     "ename": "JSONDecodeError",
     "evalue": "Expecting value: line 1 column 1 (char 0)",
     "output_type": "error",
     "traceback": [
      "\u001b[0;31m---------------------------------------------------------------------------\u001b[0m",
      "\u001b[0;31mJSONDecodeError\u001b[0m                           Traceback (most recent call last)",
      "\u001b[0;32m<ipython-input-20-3e7f20b45149>\u001b[0m in \u001b[0;36m<module>\u001b[0;34m\u001b[0m\n\u001b[1;32m     53\u001b[0m     \u001b[0;32mfrom\u001b[0m \u001b[0mSoccerNet\u001b[0m\u001b[0;34m.\u001b[0m\u001b[0mEvaluation\u001b[0m\u001b[0;34m.\u001b[0m\u001b[0mActionSpotting\u001b[0m \u001b[0;32mimport\u001b[0m \u001b[0mevaluate\u001b[0m\u001b[0;34m\u001b[0m\u001b[0;34m\u001b[0m\u001b[0m\n\u001b[1;32m     54\u001b[0m     results = evaluate(SoccerNet_path=PATH_DATASET, Predictions_path=PATH_PREDICTIONS,\n\u001b[0;32m---> 55\u001b[0;31m                        split=\"test\", version=2, prediction_file=\"results_spotting.json\", metric=\"tight\")\n\u001b[0m\u001b[1;32m     56\u001b[0m \u001b[0;34m\u001b[0m\u001b[0m\n\u001b[1;32m     57\u001b[0m     \u001b[0ma_map\u001b[0m\u001b[0;34m,\u001b[0m\u001b[0ma_mAP_visible\u001b[0m\u001b[0;34m,\u001b[0m\u001b[0ma_mAP_unshown\u001b[0m\u001b[0;34m=\u001b[0m\u001b[0mresults\u001b[0m\u001b[0;34m[\u001b[0m\u001b[0;34m\"a_mAP\"\u001b[0m\u001b[0;34m]\u001b[0m\u001b[0;34m,\u001b[0m\u001b[0mresults\u001b[0m\u001b[0;34m[\u001b[0m\u001b[0;34m\"a_mAP_visible\"\u001b[0m\u001b[0;34m]\u001b[0m\u001b[0;34m,\u001b[0m\u001b[0mresults\u001b[0m\u001b[0;34m[\u001b[0m\u001b[0;34m\"a_mAP_unshown\"\u001b[0m\u001b[0;34m]\u001b[0m\u001b[0;34m\u001b[0m\u001b[0;34m\u001b[0m\u001b[0m\n",
      "\u001b[0;32m~/anaconda3/envs/soccer/lib/python3.6/site-packages/SoccerNet/Evaluation/ActionSpotting.py\u001b[0m in \u001b[0;36mevaluate\u001b[0;34m(SoccerNet_path, Predictions_path, prediction_file, split, version, framerate, metric)\u001b[0m\n\u001b[1;32m     93\u001b[0m             \u001b[0mpredictions\u001b[0m \u001b[0;34m=\u001b[0m \u001b[0mLoadJsonFromZip\u001b[0m\u001b[0;34m(\u001b[0m\u001b[0mPredictions_path\u001b[0m\u001b[0;34m,\u001b[0m \u001b[0mos\u001b[0m\u001b[0;34m.\u001b[0m\u001b[0mpath\u001b[0m\u001b[0;34m.\u001b[0m\u001b[0mjoin\u001b[0m\u001b[0;34m(\u001b[0m\u001b[0mgame\u001b[0m\u001b[0;34m,\u001b[0m \u001b[0mprediction_file\u001b[0m\u001b[0;34m)\u001b[0m\u001b[0;34m)\u001b[0m\u001b[0;34m\u001b[0m\u001b[0;34m\u001b[0m\u001b[0m\n\u001b[1;32m     94\u001b[0m         \u001b[0;32melse\u001b[0m\u001b[0;34m:\u001b[0m\u001b[0;34m\u001b[0m\u001b[0;34m\u001b[0m\u001b[0m\n\u001b[0;32m---> 95\u001b[0;31m             \u001b[0mpredictions\u001b[0m \u001b[0;34m=\u001b[0m \u001b[0mjson\u001b[0m\u001b[0;34m.\u001b[0m\u001b[0mload\u001b[0m\u001b[0;34m(\u001b[0m\u001b[0mopen\u001b[0m\u001b[0;34m(\u001b[0m\u001b[0mos\u001b[0m\u001b[0;34m.\u001b[0m\u001b[0mpath\u001b[0m\u001b[0;34m.\u001b[0m\u001b[0mjoin\u001b[0m\u001b[0;34m(\u001b[0m\u001b[0mPredictions_path\u001b[0m\u001b[0;34m,\u001b[0m \u001b[0mgame\u001b[0m\u001b[0;34m,\u001b[0m \u001b[0mprediction_file\u001b[0m\u001b[0;34m)\u001b[0m\u001b[0;34m)\u001b[0m\u001b[0;34m)\u001b[0m\u001b[0;34m\u001b[0m\u001b[0;34m\u001b[0m\u001b[0m\n\u001b[0m\u001b[1;32m     96\u001b[0m         \u001b[0;31m# convert predictions to vector\u001b[0m\u001b[0;34m\u001b[0m\u001b[0;34m\u001b[0m\u001b[0;34m\u001b[0m\u001b[0m\n\u001b[1;32m     97\u001b[0m         \u001b[0mpredictions_half_1\u001b[0m\u001b[0;34m,\u001b[0m \u001b[0mpredictions_half_2\u001b[0m \u001b[0;34m=\u001b[0m \u001b[0mpredictions2vector\u001b[0m\u001b[0;34m(\u001b[0m\u001b[0mpredictions\u001b[0m\u001b[0;34m,\u001b[0m \u001b[0mnum_classes\u001b[0m\u001b[0;34m=\u001b[0m\u001b[0mnum_classes\u001b[0m\u001b[0;34m,\u001b[0m \u001b[0mversion\u001b[0m\u001b[0;34m=\u001b[0m\u001b[0mversion\u001b[0m\u001b[0;34m)\u001b[0m\u001b[0;34m\u001b[0m\u001b[0;34m\u001b[0m\u001b[0m\n",
      "\u001b[0;32m~/anaconda3/envs/soccer/lib/python3.6/json/__init__.py\u001b[0m in \u001b[0;36mload\u001b[0;34m(fp, cls, object_hook, parse_float, parse_int, parse_constant, object_pairs_hook, **kw)\u001b[0m\n\u001b[1;32m    297\u001b[0m         \u001b[0mcls\u001b[0m\u001b[0;34m=\u001b[0m\u001b[0mcls\u001b[0m\u001b[0;34m,\u001b[0m \u001b[0mobject_hook\u001b[0m\u001b[0;34m=\u001b[0m\u001b[0mobject_hook\u001b[0m\u001b[0;34m,\u001b[0m\u001b[0;34m\u001b[0m\u001b[0;34m\u001b[0m\u001b[0m\n\u001b[1;32m    298\u001b[0m         \u001b[0mparse_float\u001b[0m\u001b[0;34m=\u001b[0m\u001b[0mparse_float\u001b[0m\u001b[0;34m,\u001b[0m \u001b[0mparse_int\u001b[0m\u001b[0;34m=\u001b[0m\u001b[0mparse_int\u001b[0m\u001b[0;34m,\u001b[0m\u001b[0;34m\u001b[0m\u001b[0;34m\u001b[0m\u001b[0m\n\u001b[0;32m--> 299\u001b[0;31m         parse_constant=parse_constant, object_pairs_hook=object_pairs_hook, **kw)\n\u001b[0m\u001b[1;32m    300\u001b[0m \u001b[0;34m\u001b[0m\u001b[0m\n\u001b[1;32m    301\u001b[0m \u001b[0;34m\u001b[0m\u001b[0m\n",
      "\u001b[0;32m~/anaconda3/envs/soccer/lib/python3.6/json/__init__.py\u001b[0m in \u001b[0;36mloads\u001b[0;34m(s, encoding, cls, object_hook, parse_float, parse_int, parse_constant, object_pairs_hook, **kw)\u001b[0m\n\u001b[1;32m    352\u001b[0m             \u001b[0mparse_int\u001b[0m \u001b[0;32mis\u001b[0m \u001b[0;32mNone\u001b[0m \u001b[0;32mand\u001b[0m \u001b[0mparse_float\u001b[0m \u001b[0;32mis\u001b[0m \u001b[0;32mNone\u001b[0m \u001b[0;32mand\u001b[0m\u001b[0;34m\u001b[0m\u001b[0;34m\u001b[0m\u001b[0m\n\u001b[1;32m    353\u001b[0m             parse_constant is None and object_pairs_hook is None and not kw):\n\u001b[0;32m--> 354\u001b[0;31m         \u001b[0;32mreturn\u001b[0m \u001b[0m_default_decoder\u001b[0m\u001b[0;34m.\u001b[0m\u001b[0mdecode\u001b[0m\u001b[0;34m(\u001b[0m\u001b[0ms\u001b[0m\u001b[0;34m)\u001b[0m\u001b[0;34m\u001b[0m\u001b[0;34m\u001b[0m\u001b[0m\n\u001b[0m\u001b[1;32m    355\u001b[0m     \u001b[0;32mif\u001b[0m \u001b[0mcls\u001b[0m \u001b[0;32mis\u001b[0m \u001b[0;32mNone\u001b[0m\u001b[0;34m:\u001b[0m\u001b[0;34m\u001b[0m\u001b[0;34m\u001b[0m\u001b[0m\n\u001b[1;32m    356\u001b[0m         \u001b[0mcls\u001b[0m \u001b[0;34m=\u001b[0m \u001b[0mJSONDecoder\u001b[0m\u001b[0;34m\u001b[0m\u001b[0;34m\u001b[0m\u001b[0m\n",
      "\u001b[0;32m~/anaconda3/envs/soccer/lib/python3.6/json/decoder.py\u001b[0m in \u001b[0;36mdecode\u001b[0;34m(self, s, _w)\u001b[0m\n\u001b[1;32m    337\u001b[0m \u001b[0;34m\u001b[0m\u001b[0m\n\u001b[1;32m    338\u001b[0m         \"\"\"\n\u001b[0;32m--> 339\u001b[0;31m         \u001b[0mobj\u001b[0m\u001b[0;34m,\u001b[0m \u001b[0mend\u001b[0m \u001b[0;34m=\u001b[0m \u001b[0mself\u001b[0m\u001b[0;34m.\u001b[0m\u001b[0mraw_decode\u001b[0m\u001b[0;34m(\u001b[0m\u001b[0ms\u001b[0m\u001b[0;34m,\u001b[0m \u001b[0midx\u001b[0m\u001b[0;34m=\u001b[0m\u001b[0m_w\u001b[0m\u001b[0;34m(\u001b[0m\u001b[0ms\u001b[0m\u001b[0;34m,\u001b[0m \u001b[0;36m0\u001b[0m\u001b[0;34m)\u001b[0m\u001b[0;34m.\u001b[0m\u001b[0mend\u001b[0m\u001b[0;34m(\u001b[0m\u001b[0;34m)\u001b[0m\u001b[0;34m)\u001b[0m\u001b[0;34m\u001b[0m\u001b[0;34m\u001b[0m\u001b[0m\n\u001b[0m\u001b[1;32m    340\u001b[0m         \u001b[0mend\u001b[0m \u001b[0;34m=\u001b[0m \u001b[0m_w\u001b[0m\u001b[0;34m(\u001b[0m\u001b[0ms\u001b[0m\u001b[0;34m,\u001b[0m \u001b[0mend\u001b[0m\u001b[0;34m)\u001b[0m\u001b[0;34m.\u001b[0m\u001b[0mend\u001b[0m\u001b[0;34m(\u001b[0m\u001b[0;34m)\u001b[0m\u001b[0;34m\u001b[0m\u001b[0;34m\u001b[0m\u001b[0m\n\u001b[1;32m    341\u001b[0m         \u001b[0;32mif\u001b[0m \u001b[0mend\u001b[0m \u001b[0;34m!=\u001b[0m \u001b[0mlen\u001b[0m\u001b[0;34m(\u001b[0m\u001b[0ms\u001b[0m\u001b[0;34m)\u001b[0m\u001b[0;34m:\u001b[0m\u001b[0;34m\u001b[0m\u001b[0;34m\u001b[0m\u001b[0m\n",
      "\u001b[0;32m~/anaconda3/envs/soccer/lib/python3.6/json/decoder.py\u001b[0m in \u001b[0;36mraw_decode\u001b[0;34m(self, s, idx)\u001b[0m\n\u001b[1;32m    355\u001b[0m             \u001b[0mobj\u001b[0m\u001b[0;34m,\u001b[0m \u001b[0mend\u001b[0m \u001b[0;34m=\u001b[0m \u001b[0mself\u001b[0m\u001b[0;34m.\u001b[0m\u001b[0mscan_once\u001b[0m\u001b[0;34m(\u001b[0m\u001b[0ms\u001b[0m\u001b[0;34m,\u001b[0m \u001b[0midx\u001b[0m\u001b[0;34m)\u001b[0m\u001b[0;34m\u001b[0m\u001b[0;34m\u001b[0m\u001b[0m\n\u001b[1;32m    356\u001b[0m         \u001b[0;32mexcept\u001b[0m \u001b[0mStopIteration\u001b[0m \u001b[0;32mas\u001b[0m \u001b[0merr\u001b[0m\u001b[0;34m:\u001b[0m\u001b[0;34m\u001b[0m\u001b[0;34m\u001b[0m\u001b[0m\n\u001b[0;32m--> 357\u001b[0;31m             \u001b[0;32mraise\u001b[0m \u001b[0mJSONDecodeError\u001b[0m\u001b[0;34m(\u001b[0m\u001b[0;34m\"Expecting value\"\u001b[0m\u001b[0;34m,\u001b[0m \u001b[0ms\u001b[0m\u001b[0;34m,\u001b[0m \u001b[0merr\u001b[0m\u001b[0;34m.\u001b[0m\u001b[0mvalue\u001b[0m\u001b[0;34m)\u001b[0m \u001b[0;32mfrom\u001b[0m \u001b[0;32mNone\u001b[0m\u001b[0;34m\u001b[0m\u001b[0;34m\u001b[0m\u001b[0m\n\u001b[0m\u001b[1;32m    358\u001b[0m         \u001b[0;32mreturn\u001b[0m \u001b[0mobj\u001b[0m\u001b[0;34m,\u001b[0m \u001b[0mend\u001b[0m\u001b[0;34m\u001b[0m\u001b[0;34m\u001b[0m\u001b[0m\n",
      "\u001b[0;31mJSONDecodeError\u001b[0m: Expecting value: line 1 column 1 (char 0)"
     ]
    }
   ],
   "source": [
    "total_results=[]\n",
    "window_size=args.window_size\n",
    "\n",
    "add_time=args.time_start\n",
    "while add_time<=args.time_end:\n",
    "\n",
    "\n",
    "    print(add_time)\n",
    "\n",
    "    for cata in tqdm(getListGames(split=\"test\")):\n",
    "        \n",
    "\n",
    "        file=os.path.join(args.source_test_path,cata,'results_spotting.json')\n",
    "        with open(file,'r') as f:\n",
    "            data=json.load(f)\n",
    "        pres=data['predictions']\n",
    "        pres.sort(key=lambda x:(int(x['half']),int(x['position'])))\n",
    "\n",
    "        json_data = {} \n",
    "        total_pre={}\n",
    "        json_data[\"UrlLocal\"]=data['UrlLocal']\n",
    "        json_data[\"predictions\"]=[]\n",
    "\n",
    "        last_half=1\n",
    "        start,end=0,window_size\n",
    "        window=[]\n",
    "        for cur_pre,pre in enumerate(pres):\n",
    "\n",
    "\n",
    "            if start<= int(pre['position'])/1000.0 <end:\n",
    "                window.append(pre)\n",
    "            else:\n",
    "                json_data[\"predictions\"]+=process_window(window)\n",
    "                window=[pre]\n",
    "                # while end<int(pre['position']):\n",
    "                start+=window_size\n",
    "                end+=window_size\n",
    "\n",
    "                if last_half==1 and int(pre['half'])==2:\n",
    "                    last_half=2\n",
    "                    start,end=0,window_size\n",
    "\n",
    "        json_data[\"predictions\"]+=process_window(window)\n",
    "\n",
    "        os.makedirs(os.path.join(args.output_test_path,cata),exist_ok='True')\n",
    "        with open(os.path.join(args.output_test_path,cata,'results_spotting.json'),'w') as f:\n",
    "            json.dump(json_data,f,indent=2)\n",
    "    \n",
    "    PATH_DATASET='/youtu_pedestrian_detection/junweil/action_datasets/soccernet'\n",
    "    PATH_PREDICTIONS=args.output_test_path\n",
    "\n",
    "\n",
    "    from SoccerNet.Evaluation.ActionSpotting import evaluate\n",
    "    results = evaluate(SoccerNet_path=PATH_DATASET, Predictions_path=PATH_PREDICTIONS,\n",
    "                       split=\"test\", version=2, prediction_file=\"results_spotting.json\", metric=\"tight\")\n",
    "\n",
    "    a_map,a_mAP_visible,a_mAP_unshown=results[\"a_mAP\"],results[\"a_mAP_visible\"],results[\"a_mAP_unshown\"]\n",
    "    total_results.append([add_time,a_map,a_mAP_visible,a_mAP_unshown])\n",
    "    \n",
    "    \n",
    "    add_time+=args.time_gap"
   ]
  },
  {
   "cell_type": "code",
   "execution_count": null,
   "id": "42080a52-eca6-4b6e-895d-a7344cd15875",
   "metadata": {},
   "outputs": [],
   "source": []
  },
  {
   "cell_type": "code",
   "execution_count": 14,
   "id": "2b299f6a-25d4-4415-a287-bfb1c753d45c",
   "metadata": {},
   "outputs": [
    {
     "data": {
      "text/plain": [
       "[[26.5, 0.3535285850986709, 0.43257104136907215, 0.12459536427751249]]"
      ]
     },
     "execution_count": 14,
     "metadata": {},
     "output_type": "execute_result"
    }
   ],
   "source": [
    "total_results"
   ]
  },
  {
   "cell_type": "code",
   "execution_count": 11,
   "id": "25f881e6-1ee4-4ba9-b64a-cc97950ffa7c",
   "metadata": {},
   "outputs": [
    {
     "data": {
      "text/plain": [
       "[[26.5, 0.37189007693837783, 0.45514818894529907, 0.13240919371158277]]"
      ]
     },
     "execution_count": 11,
     "metadata": {},
     "output_type": "execute_result"
    }
   ],
   "source": [
    "total_results"
   ]
  },
  {
   "cell_type": "code",
   "execution_count": 21,
   "id": "fe8571b6-00ef-470b-afa0-2209d6b4b2fb",
   "metadata": {},
   "outputs": [],
   "source": [
    "total_results.sort(key=lambda x:-x[1])\n",
    "window_size=total_results[0][0]"
   ]
  },
  {
   "cell_type": "code",
   "execution_count": 22,
   "id": "e8343197-f574-457d-a71b-3d78c2d95e95",
   "metadata": {
    "tags": []
   },
   "outputs": [
    {
     "data": {
      "text/plain": [
       "[[0.0, 0.37189007693837783, 0.45514818894529907, 0.13240919371158277],\n",
       " [-0.5, 0.3681730561736264, 0.45262845917064126, 0.14143739843516032],\n",
       " [0.5, 0.336992713568119, 0.4116959069719861, 0.11501895241074209],\n",
       " [-1.0, 0.32471056806140997, 0.39939348235376465, 0.13923954311260858],\n",
       " [1.0, 0.26644969200554647, 0.3246884743585856, 0.08869013759966785],\n",
       " [-1.5, 0.25124167600005803, 0.3080676422460519, 0.12508687838381236],\n",
       " [1.5, 0.17983491868727994, 0.21734270941300698, 0.06034842110586176],\n",
       " [-2.0, 0.16735532425968327, 0.20519403691495505, 0.10127295176718347],\n",
       " [2.0, 0.09857238802136839, 0.1171626979832106, 0.03554456854419215],\n",
       " [-2.5, 0.09423446104694325, 0.11439282293373994, 0.07567915956488408],\n",
       " [-3.0, 0.049132856554745204, 0.057878268416368506, 0.05321749059115141],\n",
       " [2.5, 0.03974421516918088, 0.045513468510204116, 0.01901194984765102],\n",
       " [-3.5, 0.03076645146917467, 0.034742372826112936, 0.03844257971984389],\n",
       " [-4.0, 0.02447235408149736, 0.026509525239064653, 0.03069036973047112],\n",
       " [-4.5, 0.022248641729013176, 0.023989089883426674, 0.027522552542834568],\n",
       " [-5, 0.021350943160239083, 0.023654158580199456, 0.026939553443068386]]"
      ]
     },
     "execution_count": 22,
     "metadata": {},
     "output_type": "execute_result"
    }
   ],
   "source": [
    "total_results"
   ]
  },
  {
   "cell_type": "code",
   "execution_count": 112,
   "id": "1c123e21-75b0-4eba-8152-8f7926d33f4e",
   "metadata": {},
   "outputs": [
    {
     "data": {
      "text/plain": [
       "10.0"
      ]
     },
     "execution_count": 112,
     "metadata": {},
     "output_type": "execute_result"
    }
   ],
   "source": [
    "window_size"
   ]
  },
  {
   "cell_type": "code",
   "execution_count": 113,
   "id": "32dfec24-2a00-4eab-a9d7-a937c6c34b85",
   "metadata": {
    "collapsed": true,
    "jupyter": {
     "outputs_hidden": true
    },
    "tags": []
   },
   "outputs": [
    {
     "data": {
      "text/plain": [
       "[[10.0, 0.3635886168702596, 0.4452361951226681, 0.13416065650464098],\n",
       " [9.0, 0.3628183949734276, 0.4408861857435958, 0.13129837213006507],\n",
       " [8.0, 0.3623251507985085, 0.4394945123104102, 0.13513755799699895],\n",
       " [9.5, 0.36051810512867954, 0.43839204361662265, 0.13315908195648835],\n",
       " [8.5, 0.3597629987587144, 0.440094394295939, 0.13528863884583778],\n",
       " [7.0, 0.3574157910817314, 0.4357392284301309, 0.13575448732562678],\n",
       " [6.5, 0.3571480587524357, 0.43471564446898003, 0.13501414585936694],\n",
       " [7.5, 0.35633529300113514, 0.43441008626314975, 0.13633516850227909],\n",
       " [5.5, 0.35045527138076066, 0.4247491026570801, 0.13260608574209778],\n",
       " [6.0, 0.3503767726499682, 0.42360994858021006, 0.1333123736889443],\n",
       " [5.0, 0.3486040402767273, 0.4253135064499454, 0.1337106279009972],\n",
       " [4.0, 0.34435912502347854, 0.41643962807336105, 0.1324311198498365],\n",
       " [4.5, 0.3424705960086811, 0.41638542665409883, 0.1315793889648043],\n",
       " [3.5, 0.3370436435125208, 0.40952792182902686, 0.13061871362556607],\n",
       " [3.0, 0.32788232376722665, 0.39890128914740625, 0.12454136892284653],\n",
       " [2.5, 0.31738358149903073, 0.3887606985261802, 0.1282810929544733],\n",
       " [2.0, 0.30903594019134095, 0.3784507691330045, 0.12499910886668987],\n",
       " [1.5, 0.2887326350107374, 0.35412856259022796, 0.11548453472980105],\n",
       " [1.0, 0.26069428290941893, 0.3211136201936504, 0.10628291237676733],\n",
       " [0, 0.21150472288747466, 0.2626138776754105, 0.08868845599455046],\n",
       " [0.5, 0.21150472288747466, 0.2626138776754105, 0.08868845599455046]]"
      ]
     },
     "execution_count": 113,
     "metadata": {},
     "output_type": "execute_result"
    }
   ],
   "source": [
    "total_results"
   ]
  },
  {
   "cell_type": "code",
   "execution_count": 13,
   "id": "a7775f7b-431b-46fe-8e55-8e4e7e745d34",
   "metadata": {},
   "outputs": [
    {
     "data": {
      "text/plain": [
       "26.5"
      ]
     },
     "execution_count": 13,
     "metadata": {},
     "output_type": "execute_result"
    }
   ],
   "source": [
    "window_size"
   ]
  },
  {
   "cell_type": "code",
   "execution_count": 12,
   "id": "e32638f4-0e89-409e-adfc-eae715251042",
   "metadata": {
    "tags": []
   },
   "outputs": [
    {
     "name": "stderr",
     "output_type": "stream",
     "text": [
      "100%|██████████| 50/50 [00:08<00:00,  5.74it/s]\n"
     ]
    }
   ],
   "source": [
    "for cata in tqdm(getListGames(split=\"challenge\")):\n",
    "    \n",
    "    file=os.path.join(args.source_challenge_path,cata,'results_spotting.json')\n",
    "    with open(file,'r') as f:\n",
    "        data=json.load(f)\n",
    "    pres=data['predictions']\n",
    "    pres.sort(key=lambda x:(int(x['half']),int(x['position'])))\n",
    "    \n",
    "    json_data = {} \n",
    "    total_pre={}\n",
    "    json_data[\"UrlLocal\"]=data['UrlLocal']\n",
    "    json_data[\"predictions\"]=[]\n",
    "    \n",
    "    last_half=1\n",
    "    start,end=0,window_size\n",
    "    window=[]\n",
    "    for cur_pre,pre in enumerate(pres):\n",
    "\n",
    "        \n",
    "        if start<= int(pre['position'])/1000.0 <end:\n",
    "            window.append(pre)\n",
    "        else:\n",
    "            json_data[\"predictions\"]+=process_window(window)\n",
    "            window=[pre]\n",
    "            start+=window_size\n",
    "            end+=window_size\n",
    "            \n",
    "            if last_half==1 and int(pre['half'])==2:\n",
    "                last_half=2\n",
    "                start,end=0,window_size\n",
    "         \n",
    "    json_data[\"predictions\"]+=process_window(window)\n",
    "    \n",
    "    os.makedirs(os.path.join(args.output_challenge_path,cata),exist_ok='True')\n",
    "    with open(os.path.join(args.output_challenge_path,cata,'results_spotting.json'),'w') as f:\n",
    "        json.dump(json_data,f,indent=2)\n",
    "    \n",
    "    \n"
   ]
  }
 ],
 "metadata": {
  "kernelspec": {
   "display_name": "soccer",
   "language": "python",
   "name": "soccer"
  },
  "language_info": {
   "codemirror_mode": {
    "name": "ipython",
    "version": 3
   },
   "file_extension": ".py",
   "mimetype": "text/x-python",
   "name": "python",
   "nbconvert_exporter": "python",
   "pygments_lexer": "ipython3",
   "version": "3.6.13"
  }
 },
 "nbformat": 4,
 "nbformat_minor": 5
}
